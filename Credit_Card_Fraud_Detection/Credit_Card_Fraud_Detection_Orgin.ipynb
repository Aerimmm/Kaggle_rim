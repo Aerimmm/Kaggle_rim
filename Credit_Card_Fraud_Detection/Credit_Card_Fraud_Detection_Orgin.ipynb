{
 "cells": [
  {
   "cell_type": "markdown",
   "id": "6e76ece3",
   "metadata": {},
   "source": [
    "# Credit Card Fraud Detection"
   ]
  },
  {
   "cell_type": "markdown",
   "id": "df9ae64e",
   "metadata": {},
   "source": [
    "### 필요한 Library Import & 데이터 불러오기"
   ]
  },
  {
   "cell_type": "code",
   "execution_count": 1,
   "id": "861f5073",
   "metadata": {},
   "outputs": [],
   "source": [
    "import numpy as np \n",
    "import pandas as pd \n",
    "import tensorflow as tf\n",
    "import matplotlib.pyplot as plt\n",
    "%matplotlib inline \n",
    "import seaborn as sns\n",
    "import time\n",
    "from tensorflow import keras\n",
    "import os\n",
    "import tempfile\n",
    "from sklearn.metrics import confusion_matrix\n",
    "from sklearn.model_selection import train_test_split\n",
    "from sklearn.preprocessing import StandardScaler\n",
    "\n",
    "# Classifier. 분류기들\n",
    "from sklearn.linear_model import LogisticRegression\n",
    "from sklearn.svm import SVC\n",
    "from sklearn.neighbors import KNeighborsClassifier\n",
    "from sklearn.tree import DecisionTreeClassifier\n",
    "from sklearn.ensemble import RandomForestClassifier\n",
    "import collections\n",
    "\n",
    "import warnings\n",
    "warnings.filterwarnings(\"ignore\") # warning 제거"
   ]
  },
  {
   "cell_type": "markdown",
   "id": "9d00ed1f",
   "metadata": {},
   "source": [
    "## 데이터 불러오기, 살펴보기"
   ]
  },
  {
   "cell_type": "code",
   "execution_count": 2,
   "id": "f3f5c7f1",
   "metadata": {},
   "outputs": [],
   "source": [
    "# 데이터 불러오기\n",
    "train = pd.read_csv('./train.csv')\n",
    "test = pd.read_csv('./test.csv')"
   ]
  },
  {
   "cell_type": "code",
   "execution_count": 3,
   "id": "a5c081e4",
   "metadata": {},
   "outputs": [
    {
     "data": {
      "text/html": [
       "<div>\n",
       "<style scoped>\n",
       "    .dataframe tbody tr th:only-of-type {\n",
       "        vertical-align: middle;\n",
       "    }\n",
       "\n",
       "    .dataframe tbody tr th {\n",
       "        vertical-align: top;\n",
       "    }\n",
       "\n",
       "    .dataframe thead th {\n",
       "        text-align: right;\n",
       "    }\n",
       "</style>\n",
       "<table border=\"1\" class=\"dataframe\">\n",
       "  <thead>\n",
       "    <tr style=\"text-align: right;\">\n",
       "      <th></th>\n",
       "      <th>LOT</th>\n",
       "      <th>CycleTime</th>\n",
       "      <th>uvlamp_cycletime</th>\n",
       "      <th>InjTime</th>\n",
       "      <th>RecoveryT</th>\n",
       "      <th>Cushion</th>\n",
       "      <th>InjSpeed</th>\n",
       "      <th>InjPress</th>\n",
       "      <th>TotalShot</th>\n",
       "      <th>ThroatTemp</th>\n",
       "      <th>...</th>\n",
       "      <th>CTACTIONTEMPP</th>\n",
       "      <th>CTACTIONTEMPS</th>\n",
       "      <th>CTPRESSURE</th>\n",
       "      <th>CTOUTTEMP</th>\n",
       "      <th>OUTTEMP</th>\n",
       "      <th>OUTHUMIDITY</th>\n",
       "      <th>MI_TEST_RESULT</th>\n",
       "      <th>PAMCALE_RESULT</th>\n",
       "      <th>TIME_STAMP</th>\n",
       "      <th>RESULT</th>\n",
       "    </tr>\n",
       "  </thead>\n",
       "  <tbody>\n",
       "    <tr>\n",
       "      <th>0</th>\n",
       "      <td>4E922-05020HDD20220418075712</td>\n",
       "      <td>57.9</td>\n",
       "      <td>379</td>\n",
       "      <td>0.0</td>\n",
       "      <td>19.33</td>\n",
       "      <td>25.8</td>\n",
       "      <td>29.3</td>\n",
       "      <td>953</td>\n",
       "      <td>28944</td>\n",
       "      <td>40.4</td>\n",
       "      <td>...</td>\n",
       "      <td>24.1</td>\n",
       "      <td>24</td>\n",
       "      <td>1.9</td>\n",
       "      <td>22.9</td>\n",
       "      <td>14.9</td>\n",
       "      <td>48.3</td>\n",
       "      <td>17.2</td>\n",
       "      <td>0</td>\n",
       "      <td>2022-04-18 07:57:12</td>\n",
       "      <td>GOOD</td>\n",
       "    </tr>\n",
       "    <tr>\n",
       "      <th>1</th>\n",
       "      <td>4E922-05020HDD20220418075811</td>\n",
       "      <td>58.0</td>\n",
       "      <td>379</td>\n",
       "      <td>0.0</td>\n",
       "      <td>19.43</td>\n",
       "      <td>25.7</td>\n",
       "      <td>29.3</td>\n",
       "      <td>958</td>\n",
       "      <td>28945</td>\n",
       "      <td>40.5</td>\n",
       "      <td>...</td>\n",
       "      <td>24.0</td>\n",
       "      <td>24</td>\n",
       "      <td>1.9</td>\n",
       "      <td>22.9</td>\n",
       "      <td>15.0</td>\n",
       "      <td>48.2</td>\n",
       "      <td>17.2</td>\n",
       "      <td>0</td>\n",
       "      <td>2022-04-18 07:58:11</td>\n",
       "      <td>GOOD</td>\n",
       "    </tr>\n",
       "    <tr>\n",
       "      <th>2</th>\n",
       "      <td>4E922-05020HDD20220418075908</td>\n",
       "      <td>58.0</td>\n",
       "      <td>379</td>\n",
       "      <td>0.0</td>\n",
       "      <td>19.23</td>\n",
       "      <td>25.8</td>\n",
       "      <td>29.3</td>\n",
       "      <td>959</td>\n",
       "      <td>28946</td>\n",
       "      <td>40.6</td>\n",
       "      <td>...</td>\n",
       "      <td>24.2</td>\n",
       "      <td>24</td>\n",
       "      <td>1.9</td>\n",
       "      <td>22.5</td>\n",
       "      <td>15.1</td>\n",
       "      <td>47.7</td>\n",
       "      <td>17.2</td>\n",
       "      <td>0</td>\n",
       "      <td>2022-04-18 07:59:08</td>\n",
       "      <td>GOOD</td>\n",
       "    </tr>\n",
       "    <tr>\n",
       "      <th>3</th>\n",
       "      <td>4E922-05020HDD20220418080007</td>\n",
       "      <td>58.0</td>\n",
       "      <td>379</td>\n",
       "      <td>0.0</td>\n",
       "      <td>19.38</td>\n",
       "      <td>25.8</td>\n",
       "      <td>29.3</td>\n",
       "      <td>954</td>\n",
       "      <td>28947</td>\n",
       "      <td>40.8</td>\n",
       "      <td>...</td>\n",
       "      <td>24.1</td>\n",
       "      <td>24</td>\n",
       "      <td>2.0</td>\n",
       "      <td>22.3</td>\n",
       "      <td>15.4</td>\n",
       "      <td>47.2</td>\n",
       "      <td>17.2</td>\n",
       "      <td>0</td>\n",
       "      <td>2022-04-18 08:00:07</td>\n",
       "      <td>GOOD</td>\n",
       "    </tr>\n",
       "    <tr>\n",
       "      <th>4</th>\n",
       "      <td>4E922-05020HDD20220418080105</td>\n",
       "      <td>58.0</td>\n",
       "      <td>379</td>\n",
       "      <td>0.0</td>\n",
       "      <td>19.39</td>\n",
       "      <td>25.8</td>\n",
       "      <td>29.3</td>\n",
       "      <td>951</td>\n",
       "      <td>28948</td>\n",
       "      <td>40.8</td>\n",
       "      <td>...</td>\n",
       "      <td>24.1</td>\n",
       "      <td>24</td>\n",
       "      <td>1.9</td>\n",
       "      <td>22.2</td>\n",
       "      <td>15.5</td>\n",
       "      <td>47.4</td>\n",
       "      <td>17.2</td>\n",
       "      <td>0</td>\n",
       "      <td>2022-04-18 08:01:05</td>\n",
       "      <td>GOOD</td>\n",
       "    </tr>\n",
       "  </tbody>\n",
       "</table>\n",
       "<p>5 rows × 100 columns</p>\n",
       "</div>"
      ],
      "text/plain": [
       "                            LOT  CycleTime  uvlamp_cycletime  InjTime  \\\n",
       "0  4E922-05020HDD20220418075712       57.9               379      0.0   \n",
       "1  4E922-05020HDD20220418075811       58.0               379      0.0   \n",
       "2  4E922-05020HDD20220418075908       58.0               379      0.0   \n",
       "3  4E922-05020HDD20220418080007       58.0               379      0.0   \n",
       "4  4E922-05020HDD20220418080105       58.0               379      0.0   \n",
       "\n",
       "   RecoveryT  Cushion  InjSpeed  InjPress  TotalShot  ThroatTemp  ...  \\\n",
       "0      19.33     25.8      29.3       953      28944        40.4  ...   \n",
       "1      19.43     25.7      29.3       958      28945        40.5  ...   \n",
       "2      19.23     25.8      29.3       959      28946        40.6  ...   \n",
       "3      19.38     25.8      29.3       954      28947        40.8  ...   \n",
       "4      19.39     25.8      29.3       951      28948        40.8  ...   \n",
       "\n",
       "   CTACTIONTEMPP  CTACTIONTEMPS  CTPRESSURE  CTOUTTEMP  OUTTEMP  OUTHUMIDITY  \\\n",
       "0           24.1             24         1.9       22.9     14.9         48.3   \n",
       "1           24.0             24         1.9       22.9     15.0         48.2   \n",
       "2           24.2             24         1.9       22.5     15.1         47.7   \n",
       "3           24.1             24         2.0       22.3     15.4         47.2   \n",
       "4           24.1             24         1.9       22.2     15.5         47.4   \n",
       "\n",
       "   MI_TEST_RESULT  PAMCALE_RESULT           TIME_STAMP  RESULT  \n",
       "0            17.2               0  2022-04-18 07:57:12    GOOD  \n",
       "1            17.2               0  2022-04-18 07:58:11    GOOD  \n",
       "2            17.2               0  2022-04-18 07:59:08    GOOD  \n",
       "3            17.2               0  2022-04-18 08:00:07    GOOD  \n",
       "4            17.2               0  2022-04-18 08:01:05    GOOD  \n",
       "\n",
       "[5 rows x 100 columns]"
      ]
     },
     "execution_count": 3,
     "metadata": {},
     "output_type": "execute_result"
    }
   ],
   "source": [
    "train.head()"
   ]
  },
  {
   "cell_type": "code",
   "execution_count": 4,
   "id": "3e8e27b6",
   "metadata": {},
   "outputs": [
    {
     "data": {
      "text/html": [
       "<div>\n",
       "<style scoped>\n",
       "    .dataframe tbody tr th:only-of-type {\n",
       "        vertical-align: middle;\n",
       "    }\n",
       "\n",
       "    .dataframe tbody tr th {\n",
       "        vertical-align: top;\n",
       "    }\n",
       "\n",
       "    .dataframe thead th {\n",
       "        text-align: right;\n",
       "    }\n",
       "</style>\n",
       "<table border=\"1\" class=\"dataframe\">\n",
       "  <thead>\n",
       "    <tr style=\"text-align: right;\">\n",
       "      <th></th>\n",
       "      <th>LOT</th>\n",
       "      <th>CycleTime</th>\n",
       "      <th>uvlamp_cycletime</th>\n",
       "      <th>InjTime</th>\n",
       "      <th>RecoveryT</th>\n",
       "      <th>Cushion</th>\n",
       "      <th>InjSpeed</th>\n",
       "      <th>InjPress</th>\n",
       "      <th>TotalShot</th>\n",
       "      <th>ThroatTemp</th>\n",
       "      <th>...</th>\n",
       "      <th>CTACTIONTEMPP</th>\n",
       "      <th>CTACTIONTEMPS</th>\n",
       "      <th>CTPRESSURE</th>\n",
       "      <th>CTOUTTEMP</th>\n",
       "      <th>OUTTEMP</th>\n",
       "      <th>OUTHUMIDITY</th>\n",
       "      <th>MI_TEST_RESULT</th>\n",
       "      <th>PAMCALE_RESULT</th>\n",
       "      <th>TIME_STAMP</th>\n",
       "      <th>RESULT</th>\n",
       "    </tr>\n",
       "  </thead>\n",
       "  <tbody>\n",
       "    <tr>\n",
       "      <th>0</th>\n",
       "      <td>M7925-11000HDD20220526014142</td>\n",
       "      <td>59.7</td>\n",
       "      <td>871</td>\n",
       "      <td>11.05</td>\n",
       "      <td>12.45</td>\n",
       "      <td>16.6</td>\n",
       "      <td>19.3</td>\n",
       "      <td>1463</td>\n",
       "      <td>369705</td>\n",
       "      <td>50.2</td>\n",
       "      <td>...</td>\n",
       "      <td>25.5</td>\n",
       "      <td>24</td>\n",
       "      <td>1.8</td>\n",
       "      <td>23.5</td>\n",
       "      <td>26.3</td>\n",
       "      <td>37.6</td>\n",
       "      <td>18</td>\n",
       "      <td>0</td>\n",
       "      <td>2022-05-26 01:41:42</td>\n",
       "      <td>GOOD</td>\n",
       "    </tr>\n",
       "    <tr>\n",
       "      <th>1</th>\n",
       "      <td>M7925-11000HDD20220526014241</td>\n",
       "      <td>59.3</td>\n",
       "      <td>871</td>\n",
       "      <td>11.06</td>\n",
       "      <td>12.50</td>\n",
       "      <td>16.6</td>\n",
       "      <td>19.3</td>\n",
       "      <td>1465</td>\n",
       "      <td>369706</td>\n",
       "      <td>50.3</td>\n",
       "      <td>...</td>\n",
       "      <td>25.5</td>\n",
       "      <td>24</td>\n",
       "      <td>1.8</td>\n",
       "      <td>23.5</td>\n",
       "      <td>26.1</td>\n",
       "      <td>37.9</td>\n",
       "      <td>18</td>\n",
       "      <td>0</td>\n",
       "      <td>2022-05-26 01:42:41</td>\n",
       "      <td>GOOD</td>\n",
       "    </tr>\n",
       "    <tr>\n",
       "      <th>2</th>\n",
       "      <td>M7925-11000HDD20220526014341</td>\n",
       "      <td>59.7</td>\n",
       "      <td>871</td>\n",
       "      <td>11.06</td>\n",
       "      <td>12.28</td>\n",
       "      <td>16.6</td>\n",
       "      <td>19.3</td>\n",
       "      <td>1463</td>\n",
       "      <td>369707</td>\n",
       "      <td>50.3</td>\n",
       "      <td>...</td>\n",
       "      <td>25.5</td>\n",
       "      <td>24</td>\n",
       "      <td>1.8</td>\n",
       "      <td>23.4</td>\n",
       "      <td>26.0</td>\n",
       "      <td>38.3</td>\n",
       "      <td>18</td>\n",
       "      <td>0</td>\n",
       "      <td>2022-05-26 01:43:41</td>\n",
       "      <td>GOOD</td>\n",
       "    </tr>\n",
       "    <tr>\n",
       "      <th>3</th>\n",
       "      <td>M7925-11000HDD20220526014440</td>\n",
       "      <td>59.3</td>\n",
       "      <td>871</td>\n",
       "      <td>11.08</td>\n",
       "      <td>12.41</td>\n",
       "      <td>16.6</td>\n",
       "      <td>19.3</td>\n",
       "      <td>1465</td>\n",
       "      <td>369708</td>\n",
       "      <td>50.3</td>\n",
       "      <td>...</td>\n",
       "      <td>25.5</td>\n",
       "      <td>24</td>\n",
       "      <td>1.9</td>\n",
       "      <td>23.6</td>\n",
       "      <td>25.9</td>\n",
       "      <td>38.6</td>\n",
       "      <td>18</td>\n",
       "      <td>0</td>\n",
       "      <td>2022-05-26 01:44:40</td>\n",
       "      <td>GOOD</td>\n",
       "    </tr>\n",
       "    <tr>\n",
       "      <th>4</th>\n",
       "      <td>M7925-11000HDD20220526014540</td>\n",
       "      <td>59.6</td>\n",
       "      <td>871</td>\n",
       "      <td>11.08</td>\n",
       "      <td>12.24</td>\n",
       "      <td>16.6</td>\n",
       "      <td>19.3</td>\n",
       "      <td>1463</td>\n",
       "      <td>369709</td>\n",
       "      <td>50.3</td>\n",
       "      <td>...</td>\n",
       "      <td>25.6</td>\n",
       "      <td>24</td>\n",
       "      <td>1.8</td>\n",
       "      <td>23.6</td>\n",
       "      <td>25.9</td>\n",
       "      <td>38.6</td>\n",
       "      <td>18</td>\n",
       "      <td>0</td>\n",
       "      <td>2022-05-26 01:45:40</td>\n",
       "      <td>GOOD</td>\n",
       "    </tr>\n",
       "  </tbody>\n",
       "</table>\n",
       "<p>5 rows × 100 columns</p>\n",
       "</div>"
      ],
      "text/plain": [
       "                            LOT  CycleTime  uvlamp_cycletime  InjTime  \\\n",
       "0  M7925-11000HDD20220526014142       59.7               871    11.05   \n",
       "1  M7925-11000HDD20220526014241       59.3               871    11.06   \n",
       "2  M7925-11000HDD20220526014341       59.7               871    11.06   \n",
       "3  M7925-11000HDD20220526014440       59.3               871    11.08   \n",
       "4  M7925-11000HDD20220526014540       59.6               871    11.08   \n",
       "\n",
       "   RecoveryT  Cushion  InjSpeed  InjPress  TotalShot  ThroatTemp  ...  \\\n",
       "0      12.45     16.6      19.3      1463     369705        50.2  ...   \n",
       "1      12.50     16.6      19.3      1465     369706        50.3  ...   \n",
       "2      12.28     16.6      19.3      1463     369707        50.3  ...   \n",
       "3      12.41     16.6      19.3      1465     369708        50.3  ...   \n",
       "4      12.24     16.6      19.3      1463     369709        50.3  ...   \n",
       "\n",
       "   CTACTIONTEMPP  CTACTIONTEMPS  CTPRESSURE  CTOUTTEMP  OUTTEMP  OUTHUMIDITY  \\\n",
       "0           25.5             24         1.8       23.5     26.3         37.6   \n",
       "1           25.5             24         1.8       23.5     26.1         37.9   \n",
       "2           25.5             24         1.8       23.4     26.0         38.3   \n",
       "3           25.5             24         1.9       23.6     25.9         38.6   \n",
       "4           25.6             24         1.8       23.6     25.9         38.6   \n",
       "\n",
       "   MI_TEST_RESULT  PAMCALE_RESULT           TIME_STAMP  RESULT  \n",
       "0              18               0  2022-05-26 01:41:42    GOOD  \n",
       "1              18               0  2022-05-26 01:42:41    GOOD  \n",
       "2              18               0  2022-05-26 01:43:41    GOOD  \n",
       "3              18               0  2022-05-26 01:44:40    GOOD  \n",
       "4              18               0  2022-05-26 01:45:40    GOOD  \n",
       "\n",
       "[5 rows x 100 columns]"
      ]
     },
     "execution_count": 4,
     "metadata": {},
     "output_type": "execute_result"
    }
   ],
   "source": [
    "test.head()"
   ]
  },
  {
   "cell_type": "code",
   "execution_count": 5,
   "id": "66f1f156",
   "metadata": {},
   "outputs": [
    {
     "name": "stdout",
     "output_type": "stream",
     "text": [
      "<class 'pandas.core.frame.DataFrame'>\n",
      "RangeIndex: 7720 entries, 0 to 7719\n",
      "Data columns (total 100 columns):\n",
      " #   Column            Non-Null Count  Dtype  \n",
      "---  ------            --------------  -----  \n",
      " 0   LOT               7720 non-null   object \n",
      " 1   CycleTime         7720 non-null   float64\n",
      " 2   uvlamp_cycletime  7720 non-null   int64  \n",
      " 3   InjTime           7720 non-null   float64\n",
      " 4   RecoveryT         7720 non-null   float64\n",
      " 5   Cushion           7720 non-null   float64\n",
      " 6   InjSpeed          7720 non-null   float64\n",
      " 7   InjPress          7720 non-null   int64  \n",
      " 8   TotalShot         7720 non-null   int64  \n",
      " 9   ThroatTemp        7720 non-null   float64\n",
      " 10  HPTransPrs        7720 non-null   float64\n",
      " 11  HPTransPos        7720 non-null   float64\n",
      " 12  Oily              7720 non-null   float64\n",
      " 13  Moisture          7720 non-null   float64\n",
      " 14  Ebi               7720 non-null   float64\n",
      " 15  Eai               7720 non-null   float64\n",
      " 16  INPUT             7720 non-null   int64  \n",
      " 17  paintTemp         7720 non-null   float64\n",
      " 18  supportTemp       7720 non-null   float64\n",
      " 19  supportHumidity   7720 non-null   float64\n",
      " 20  pportRTemp        7720 non-null   float64\n",
      " 21  supportRHumidity  7720 non-null   float64\n",
      " 22  ApplyS            7720 non-null   float64\n",
      " 23  SprayS            7720 non-null   int64  \n",
      " 24  PatternS          7720 non-null   float64\n",
      " 25  ApplyP            7720 non-null   float64\n",
      " 26  SprayP            7720 non-null   int64  \n",
      " 27  PatternP          7720 non-null   float64\n",
      " 28  TEMP              7720 non-null   float64\n",
      " 29  HUMIDITY          7720 non-null   float64\n",
      " 30  RTEMP             7720 non-null   float64\n",
      " 31  RHUMIDITY         7720 non-null   float64\n",
      " 32  DRYING            7720 non-null   int64  \n",
      " 33  DP001             7720 non-null   float64\n",
      " 34  DP002             7720 non-null   float64\n",
      " 35  DP003             7720 non-null   float64\n",
      " 36  DP004             7720 non-null   float64\n",
      " 37  DP005             7720 non-null   float64\n",
      " 38  DP006             7720 non-null   float64\n",
      " 39  DP007             7720 non-null   float64\n",
      " 40  DP008             7720 non-null   float64\n",
      " 41  DP009             7720 non-null   float64\n",
      " 42  Temp1             7720 non-null   int64  \n",
      " 43  Temp2             7720 non-null   int64  \n",
      " 44  Temp3             7720 non-null   int64  \n",
      " 45  Temp4             7720 non-null   int64  \n",
      " 46  Temp5             7720 non-null   int64  \n",
      " 47  Temp6             7720 non-null   int64  \n",
      " 48  Temp7             7720 non-null   int64  \n",
      " 49  Temp8             7720 non-null   int64  \n",
      " 50  Temp9             7720 non-null   int64  \n",
      " 51  UvTemp1           7720 non-null   int64  \n",
      " 52  UvTemp2           7720 non-null   int64  \n",
      " 53  UvTemp3           7720 non-null   int64  \n",
      " 54  UvTemp4           7720 non-null   int64  \n",
      " 55  UvTemp5           7720 non-null   int64  \n",
      " 56  UvTemp6           7720 non-null   int64  \n",
      " 57  UvTemp7           7720 non-null   int64  \n",
      " 58  UvTemp8           7720 non-null   int64  \n",
      " 59  UvTemp9           7720 non-null   int64  \n",
      " 60  UvTemp10          7720 non-null   int64  \n",
      " 61  LABORATOR         7720 non-null   int64  \n",
      " 62  SPTEMP            7720 non-null   float64\n",
      " 63  SPHUMIDITY        7720 non-null   float64\n",
      " 64  HP1ACTIONTEMPP    7720 non-null   int64  \n",
      " 65  HP1ACTIONTEMPS    7720 non-null   int64  \n",
      " 66  HP1ENDTEMP        7720 non-null   int64  \n",
      " 67  HP2ACTIONTEMPP    7720 non-null   int64  \n",
      " 68  HP2ACTIONTEMPS    7720 non-null   int64  \n",
      " 69  HP2ENDTEMP        7720 non-null   int64  \n",
      " 70  WH1ACTIONTEMPP    7720 non-null   float64\n",
      " 71  WH1ACTIONTEMPS    7720 non-null   int64  \n",
      " 72  WH1INTEMP         7720 non-null   float64\n",
      " 73  WH1OUTTEMP        7720 non-null   float64\n",
      " 74  WH1INFLUX         7720 non-null   float64\n",
      " 75  WH2ACTIONTEMPP    7720 non-null   float64\n",
      " 76  WH2ACTIONTEMPS    7720 non-null   int64  \n",
      " 77  WH2INTEMP         7720 non-null   float64\n",
      " 78  WH2OUTTEMP        7720 non-null   float64\n",
      " 79  WH2INFLUX         7720 non-null   float64\n",
      " 80  WH3ACTIONTEMPP    7720 non-null   float64\n",
      " 81  WH3ACTIONTEMPS    7720 non-null   int64  \n",
      " 82  WH3INTEMP         7720 non-null   float64\n",
      " 83  WH3OUTTEMP        7720 non-null   float64\n",
      " 84  WH3INFLUX         7720 non-null   float64\n",
      " 85  WH4ACTIONTEMPP    7720 non-null   float64\n",
      " 86  WH4ACTIONTEMPS    7720 non-null   int64  \n",
      " 87  WH4INTEMP         7720 non-null   float64\n",
      " 88  WH4OUTTEMP        7720 non-null   int64  \n",
      " 89  WH4INFLUX         7720 non-null   float64\n",
      " 90  CTACTIONTEMPP     7720 non-null   float64\n",
      " 91  CTACTIONTEMPS     7720 non-null   int64  \n",
      " 92  CTPRESSURE        7720 non-null   float64\n",
      " 93  CTOUTTEMP         7720 non-null   float64\n",
      " 94  OUTTEMP           7720 non-null   float64\n",
      " 95  OUTHUMIDITY       7720 non-null   float64\n",
      " 96  MI_TEST_RESULT    7720 non-null   float64\n",
      " 97  PAMCALE_RESULT    7720 non-null   int64  \n",
      " 98  TIME_STAMP        7720 non-null   object \n",
      " 99  RESULT            7720 non-null   object \n",
      "dtypes: float64(57), int64(40), object(3)\n",
      "memory usage: 5.9+ MB\n"
     ]
    }
   ],
   "source": [
    "train.info()"
   ]
  },
  {
   "cell_type": "code",
   "execution_count": 6,
   "id": "80fa5d13",
   "metadata": {},
   "outputs": [
    {
     "name": "stdout",
     "output_type": "stream",
     "text": [
      "<class 'pandas.core.frame.DataFrame'>\n",
      "RangeIndex: 1930 entries, 0 to 1929\n",
      "Data columns (total 100 columns):\n",
      " #   Column            Non-Null Count  Dtype  \n",
      "---  ------            --------------  -----  \n",
      " 0   LOT               1930 non-null   object \n",
      " 1   CycleTime         1930 non-null   float64\n",
      " 2   uvlamp_cycletime  1930 non-null   int64  \n",
      " 3   InjTime           1930 non-null   float64\n",
      " 4   RecoveryT         1930 non-null   float64\n",
      " 5   Cushion           1930 non-null   float64\n",
      " 6   InjSpeed          1930 non-null   float64\n",
      " 7   InjPress          1930 non-null   int64  \n",
      " 8   TotalShot         1930 non-null   int64  \n",
      " 9   ThroatTemp        1930 non-null   float64\n",
      " 10  HPTransPrs        1930 non-null   float64\n",
      " 11  HPTransPos        1930 non-null   float64\n",
      " 12  Oily              1930 non-null   float64\n",
      " 13  Moisture          1930 non-null   float64\n",
      " 14  Ebi               1930 non-null   float64\n",
      " 15  Eai               1930 non-null   float64\n",
      " 16  INPUT             1930 non-null   int64  \n",
      " 17  paintTemp         1930 non-null   float64\n",
      " 18  supportTemp       1930 non-null   float64\n",
      " 19  supportHumidity   1930 non-null   float64\n",
      " 20  pportRTemp        1930 non-null   float64\n",
      " 21  supportRHumidity  1930 non-null   float64\n",
      " 22  ApplyS            1930 non-null   float64\n",
      " 23  SprayS            1930 non-null   int64  \n",
      " 24  PatternS          1930 non-null   int64  \n",
      " 25  ApplyP            1930 non-null   float64\n",
      " 26  SprayP            1930 non-null   int64  \n",
      " 27  PatternP          1930 non-null   int64  \n",
      " 28  TEMP              1930 non-null   float64\n",
      " 29  HUMIDITY          1930 non-null   float64\n",
      " 30  RTEMP             1930 non-null   float64\n",
      " 31  RHUMIDITY         1930 non-null   float64\n",
      " 32  DRYING            1930 non-null   int64  \n",
      " 33  DP001             1930 non-null   float64\n",
      " 34  DP002             1930 non-null   float64\n",
      " 35  DP003             1930 non-null   float64\n",
      " 36  DP004             1930 non-null   float64\n",
      " 37  DP005             1930 non-null   float64\n",
      " 38  DP006             1930 non-null   float64\n",
      " 39  DP007             1930 non-null   float64\n",
      " 40  DP008             1930 non-null   float64\n",
      " 41  DP009             1930 non-null   float64\n",
      " 42  Temp1             1930 non-null   int64  \n",
      " 43  Temp2             1930 non-null   int64  \n",
      " 44  Temp3             1930 non-null   int64  \n",
      " 45  Temp4             1930 non-null   int64  \n",
      " 46  Temp5             1930 non-null   int64  \n",
      " 47  Temp6             1930 non-null   int64  \n",
      " 48  Temp7             1930 non-null   int64  \n",
      " 49  Temp8             1930 non-null   int64  \n",
      " 50  Temp9             1930 non-null   int64  \n",
      " 51  UvTemp1           1930 non-null   int64  \n",
      " 52  UvTemp2           1930 non-null   int64  \n",
      " 53  UvTemp3           1930 non-null   int64  \n",
      " 54  UvTemp4           1930 non-null   int64  \n",
      " 55  UvTemp5           1930 non-null   int64  \n",
      " 56  UvTemp6           1930 non-null   int64  \n",
      " 57  UvTemp7           1930 non-null   int64  \n",
      " 58  UvTemp8           1930 non-null   int64  \n",
      " 59  UvTemp9           1930 non-null   int64  \n",
      " 60  UvTemp10          1930 non-null   int64  \n",
      " 61  LABORATOR         1930 non-null   int64  \n",
      " 62  SPTEMP            1930 non-null   float64\n",
      " 63  SPHUMIDITY        1930 non-null   float64\n",
      " 64  HP1ACTIONTEMPP    1930 non-null   int64  \n",
      " 65  HP1ACTIONTEMPS    1930 non-null   int64  \n",
      " 66  HP1ENDTEMP        1930 non-null   int64  \n",
      " 67  HP2ACTIONTEMPP    1930 non-null   int64  \n",
      " 68  HP2ACTIONTEMPS    1930 non-null   int64  \n",
      " 69  HP2ENDTEMP        1930 non-null   int64  \n",
      " 70  WH1ACTIONTEMPP    1930 non-null   float64\n",
      " 71  WH1ACTIONTEMPS    1930 non-null   int64  \n",
      " 72  WH1INTEMP         1930 non-null   float64\n",
      " 73  WH1OUTTEMP        1930 non-null   float64\n",
      " 74  WH1INFLUX         1930 non-null   float64\n",
      " 75  WH2ACTIONTEMPP    1930 non-null   float64\n",
      " 76  WH2ACTIONTEMPS    1930 non-null   int64  \n",
      " 77  WH2INTEMP         1930 non-null   float64\n",
      " 78  WH2OUTTEMP        1930 non-null   float64\n",
      " 79  WH2INFLUX         1930 non-null   float64\n",
      " 80  WH3ACTIONTEMPP    1930 non-null   float64\n",
      " 81  WH3ACTIONTEMPS    1930 non-null   int64  \n",
      " 82  WH3INTEMP         1930 non-null   float64\n",
      " 83  WH3OUTTEMP        1930 non-null   float64\n",
      " 84  WH3INFLUX         1930 non-null   float64\n",
      " 85  WH4ACTIONTEMPP    1930 non-null   float64\n",
      " 86  WH4ACTIONTEMPS    1930 non-null   int64  \n",
      " 87  WH4INTEMP         1930 non-null   float64\n",
      " 88  WH4OUTTEMP        1930 non-null   int64  \n",
      " 89  WH4INFLUX         1930 non-null   float64\n",
      " 90  CTACTIONTEMPP     1930 non-null   float64\n",
      " 91  CTACTIONTEMPS     1930 non-null   int64  \n",
      " 92  CTPRESSURE        1930 non-null   float64\n",
      " 93  CTOUTTEMP         1930 non-null   float64\n",
      " 94  OUTTEMP           1930 non-null   float64\n",
      " 95  OUTHUMIDITY       1930 non-null   float64\n",
      " 96  MI_TEST_RESULT    1930 non-null   int64  \n",
      " 97  PAMCALE_RESULT    1930 non-null   int64  \n",
      " 98  TIME_STAMP        1930 non-null   object \n",
      " 99  RESULT            1930 non-null   object \n",
      "dtypes: float64(54), int64(43), object(3)\n",
      "memory usage: 1.5+ MB\n"
     ]
    }
   ],
   "source": [
    "test.info()"
   ]
  },
  {
   "cell_type": "code",
   "execution_count": 7,
   "id": "eb1240d0",
   "metadata": {},
   "outputs": [
    {
     "data": {
      "text/html": [
       "<div>\n",
       "<style scoped>\n",
       "    .dataframe tbody tr th:only-of-type {\n",
       "        vertical-align: middle;\n",
       "    }\n",
       "\n",
       "    .dataframe tbody tr th {\n",
       "        vertical-align: top;\n",
       "    }\n",
       "\n",
       "    .dataframe thead th {\n",
       "        text-align: right;\n",
       "    }\n",
       "</style>\n",
       "<table border=\"1\" class=\"dataframe\">\n",
       "  <thead>\n",
       "    <tr style=\"text-align: right;\">\n",
       "      <th></th>\n",
       "      <th>CycleTime</th>\n",
       "      <th>uvlamp_cycletime</th>\n",
       "      <th>InjTime</th>\n",
       "      <th>RecoveryT</th>\n",
       "      <th>Cushion</th>\n",
       "      <th>InjSpeed</th>\n",
       "      <th>InjPress</th>\n",
       "      <th>TotalShot</th>\n",
       "      <th>ThroatTemp</th>\n",
       "      <th>HPTransPrs</th>\n",
       "      <th>...</th>\n",
       "      <th>WH4OUTTEMP</th>\n",
       "      <th>WH4INFLUX</th>\n",
       "      <th>CTACTIONTEMPP</th>\n",
       "      <th>CTACTIONTEMPS</th>\n",
       "      <th>CTPRESSURE</th>\n",
       "      <th>CTOUTTEMP</th>\n",
       "      <th>OUTTEMP</th>\n",
       "      <th>OUTHUMIDITY</th>\n",
       "      <th>MI_TEST_RESULT</th>\n",
       "      <th>PAMCALE_RESULT</th>\n",
       "    </tr>\n",
       "  </thead>\n",
       "  <tbody>\n",
       "    <tr>\n",
       "      <th>count</th>\n",
       "      <td>7720.000000</td>\n",
       "      <td>7720.000000</td>\n",
       "      <td>7720.000000</td>\n",
       "      <td>7720.000000</td>\n",
       "      <td>7720.000000</td>\n",
       "      <td>7720.000000</td>\n",
       "      <td>7720.000000</td>\n",
       "      <td>7720.000000</td>\n",
       "      <td>7720.000000</td>\n",
       "      <td>7720.000000</td>\n",
       "      <td>...</td>\n",
       "      <td>7720.0</td>\n",
       "      <td>7720.000000</td>\n",
       "      <td>7720.000000</td>\n",
       "      <td>7720.0</td>\n",
       "      <td>7720.000000</td>\n",
       "      <td>7720.000000</td>\n",
       "      <td>7720.000000</td>\n",
       "      <td>7720.000000</td>\n",
       "      <td>7720.000000</td>\n",
       "      <td>7720.0</td>\n",
       "    </tr>\n",
       "    <tr>\n",
       "      <th>mean</th>\n",
       "      <td>87.432681</td>\n",
       "      <td>613.097280</td>\n",
       "      <td>1.525556</td>\n",
       "      <td>19.494426</td>\n",
       "      <td>24.893601</td>\n",
       "      <td>26.165039</td>\n",
       "      <td>1044.130311</td>\n",
       "      <td>83303.745855</td>\n",
       "      <td>52.571295</td>\n",
       "      <td>100.927927</td>\n",
       "      <td>...</td>\n",
       "      <td>3100.0</td>\n",
       "      <td>3.088110</td>\n",
       "      <td>23.677539</td>\n",
       "      <td>24.0</td>\n",
       "      <td>1.865855</td>\n",
       "      <td>22.640142</td>\n",
       "      <td>21.917474</td>\n",
       "      <td>36.661788</td>\n",
       "      <td>12.734301</td>\n",
       "      <td>0.0</td>\n",
       "    </tr>\n",
       "    <tr>\n",
       "      <th>std</th>\n",
       "      <td>1728.134497</td>\n",
       "      <td>153.285406</td>\n",
       "      <td>3.805546</td>\n",
       "      <td>2.528673</td>\n",
       "      <td>3.273104</td>\n",
       "      <td>2.706982</td>\n",
       "      <td>176.499125</td>\n",
       "      <td>113625.994310</td>\n",
       "      <td>5.847608</td>\n",
       "      <td>17.591904</td>\n",
       "      <td>...</td>\n",
       "      <td>0.0</td>\n",
       "      <td>1.876951</td>\n",
       "      <td>0.406895</td>\n",
       "      <td>0.0</td>\n",
       "      <td>0.066094</td>\n",
       "      <td>0.463969</td>\n",
       "      <td>5.049206</td>\n",
       "      <td>14.155364</td>\n",
       "      <td>7.997059</td>\n",
       "      <td>0.0</td>\n",
       "    </tr>\n",
       "    <tr>\n",
       "      <th>min</th>\n",
       "      <td>57.800000</td>\n",
       "      <td>379.000000</td>\n",
       "      <td>0.000000</td>\n",
       "      <td>11.580000</td>\n",
       "      <td>16.500000</td>\n",
       "      <td>19.300000</td>\n",
       "      <td>902.000000</td>\n",
       "      <td>28944.000000</td>\n",
       "      <td>40.400000</td>\n",
       "      <td>87.300000</td>\n",
       "      <td>...</td>\n",
       "      <td>3100.0</td>\n",
       "      <td>0.000000</td>\n",
       "      <td>22.900000</td>\n",
       "      <td>24.0</td>\n",
       "      <td>1.600000</td>\n",
       "      <td>21.400000</td>\n",
       "      <td>12.700000</td>\n",
       "      <td>15.800000</td>\n",
       "      <td>0.000000</td>\n",
       "      <td>0.0</td>\n",
       "    </tr>\n",
       "    <tr>\n",
       "      <th>25%</th>\n",
       "      <td>58.500000</td>\n",
       "      <td>395.000000</td>\n",
       "      <td>0.000000</td>\n",
       "      <td>20.200000</td>\n",
       "      <td>26.000000</td>\n",
       "      <td>27.000000</td>\n",
       "      <td>947.000000</td>\n",
       "      <td>29919.750000</td>\n",
       "      <td>49.700000</td>\n",
       "      <td>91.475000</td>\n",
       "      <td>...</td>\n",
       "      <td>3100.0</td>\n",
       "      <td>3.150000</td>\n",
       "      <td>23.600000</td>\n",
       "      <td>24.0</td>\n",
       "      <td>1.800000</td>\n",
       "      <td>22.300000</td>\n",
       "      <td>18.000000</td>\n",
       "      <td>23.800000</td>\n",
       "      <td>0.000000</td>\n",
       "      <td>0.0</td>\n",
       "    </tr>\n",
       "    <tr>\n",
       "      <th>50%</th>\n",
       "      <td>58.900000</td>\n",
       "      <td>645.000000</td>\n",
       "      <td>0.000000</td>\n",
       "      <td>20.520000</td>\n",
       "      <td>26.300000</td>\n",
       "      <td>27.000000</td>\n",
       "      <td>998.000000</td>\n",
       "      <td>39807.500000</td>\n",
       "      <td>51.300000</td>\n",
       "      <td>96.300000</td>\n",
       "      <td>...</td>\n",
       "      <td>3100.0</td>\n",
       "      <td>3.370000</td>\n",
       "      <td>23.600000</td>\n",
       "      <td>24.0</td>\n",
       "      <td>1.900000</td>\n",
       "      <td>22.900000</td>\n",
       "      <td>22.000000</td>\n",
       "      <td>34.900000</td>\n",
       "      <td>17.280000</td>\n",
       "      <td>0.0</td>\n",
       "    </tr>\n",
       "    <tr>\n",
       "      <th>75%</th>\n",
       "      <td>59.000000</td>\n",
       "      <td>661.000000</td>\n",
       "      <td>0.000000</td>\n",
       "      <td>20.670000</td>\n",
       "      <td>26.300000</td>\n",
       "      <td>27.300000</td>\n",
       "      <td>1012.000000</td>\n",
       "      <td>47018.000000</td>\n",
       "      <td>52.400000</td>\n",
       "      <td>97.400000</td>\n",
       "      <td>...</td>\n",
       "      <td>3100.0</td>\n",
       "      <td>3.450000</td>\n",
       "      <td>23.600000</td>\n",
       "      <td>24.0</td>\n",
       "      <td>1.900000</td>\n",
       "      <td>22.900000</td>\n",
       "      <td>26.600000</td>\n",
       "      <td>48.200000</td>\n",
       "      <td>18.000000</td>\n",
       "      <td>0.0</td>\n",
       "    </tr>\n",
       "    <tr>\n",
       "      <th>max</th>\n",
       "      <td>107433.200000</td>\n",
       "      <td>882.000000</td>\n",
       "      <td>11.470000</td>\n",
       "      <td>23.820000</td>\n",
       "      <td>26.500000</td>\n",
       "      <td>29.300000</td>\n",
       "      <td>1488.000000</td>\n",
       "      <td>369704.000000</td>\n",
       "      <td>69.000000</td>\n",
       "      <td>145.100000</td>\n",
       "      <td>...</td>\n",
       "      <td>3100.0</td>\n",
       "      <td>11.060000</td>\n",
       "      <td>26.200000</td>\n",
       "      <td>24.0</td>\n",
       "      <td>2.000000</td>\n",
       "      <td>24.000000</td>\n",
       "      <td>31.900000</td>\n",
       "      <td>73.100000</td>\n",
       "      <td>18.000000</td>\n",
       "      <td>0.0</td>\n",
       "    </tr>\n",
       "  </tbody>\n",
       "</table>\n",
       "<p>8 rows × 97 columns</p>\n",
       "</div>"
      ],
      "text/plain": [
       "           CycleTime  uvlamp_cycletime      InjTime    RecoveryT      Cushion  \\\n",
       "count    7720.000000       7720.000000  7720.000000  7720.000000  7720.000000   \n",
       "mean       87.432681        613.097280     1.525556    19.494426    24.893601   \n",
       "std      1728.134497        153.285406     3.805546     2.528673     3.273104   \n",
       "min        57.800000        379.000000     0.000000    11.580000    16.500000   \n",
       "25%        58.500000        395.000000     0.000000    20.200000    26.000000   \n",
       "50%        58.900000        645.000000     0.000000    20.520000    26.300000   \n",
       "75%        59.000000        661.000000     0.000000    20.670000    26.300000   \n",
       "max    107433.200000        882.000000    11.470000    23.820000    26.500000   \n",
       "\n",
       "          InjSpeed     InjPress      TotalShot   ThroatTemp   HPTransPrs  ...  \\\n",
       "count  7720.000000  7720.000000    7720.000000  7720.000000  7720.000000  ...   \n",
       "mean     26.165039  1044.130311   83303.745855    52.571295   100.927927  ...   \n",
       "std       2.706982   176.499125  113625.994310     5.847608    17.591904  ...   \n",
       "min      19.300000   902.000000   28944.000000    40.400000    87.300000  ...   \n",
       "25%      27.000000   947.000000   29919.750000    49.700000    91.475000  ...   \n",
       "50%      27.000000   998.000000   39807.500000    51.300000    96.300000  ...   \n",
       "75%      27.300000  1012.000000   47018.000000    52.400000    97.400000  ...   \n",
       "max      29.300000  1488.000000  369704.000000    69.000000   145.100000  ...   \n",
       "\n",
       "       WH4OUTTEMP    WH4INFLUX  CTACTIONTEMPP  CTACTIONTEMPS   CTPRESSURE  \\\n",
       "count      7720.0  7720.000000    7720.000000         7720.0  7720.000000   \n",
       "mean       3100.0     3.088110      23.677539           24.0     1.865855   \n",
       "std           0.0     1.876951       0.406895            0.0     0.066094   \n",
       "min        3100.0     0.000000      22.900000           24.0     1.600000   \n",
       "25%        3100.0     3.150000      23.600000           24.0     1.800000   \n",
       "50%        3100.0     3.370000      23.600000           24.0     1.900000   \n",
       "75%        3100.0     3.450000      23.600000           24.0     1.900000   \n",
       "max        3100.0    11.060000      26.200000           24.0     2.000000   \n",
       "\n",
       "         CTOUTTEMP      OUTTEMP  OUTHUMIDITY  MI_TEST_RESULT  PAMCALE_RESULT  \n",
       "count  7720.000000  7720.000000  7720.000000     7720.000000          7720.0  \n",
       "mean     22.640142    21.917474    36.661788       12.734301             0.0  \n",
       "std       0.463969     5.049206    14.155364        7.997059             0.0  \n",
       "min      21.400000    12.700000    15.800000        0.000000             0.0  \n",
       "25%      22.300000    18.000000    23.800000        0.000000             0.0  \n",
       "50%      22.900000    22.000000    34.900000       17.280000             0.0  \n",
       "75%      22.900000    26.600000    48.200000       18.000000             0.0  \n",
       "max      24.000000    31.900000    73.100000       18.000000             0.0  \n",
       "\n",
       "[8 rows x 97 columns]"
      ]
     },
     "execution_count": 7,
     "metadata": {},
     "output_type": "execute_result"
    }
   ],
   "source": [
    "train.describe()"
   ]
  },
  {
   "cell_type": "code",
   "execution_count": 8,
   "id": "b9433a97",
   "metadata": {},
   "outputs": [
    {
     "data": {
      "text/html": [
       "<div>\n",
       "<style scoped>\n",
       "    .dataframe tbody tr th:only-of-type {\n",
       "        vertical-align: middle;\n",
       "    }\n",
       "\n",
       "    .dataframe tbody tr th {\n",
       "        vertical-align: top;\n",
       "    }\n",
       "\n",
       "    .dataframe thead th {\n",
       "        text-align: right;\n",
       "    }\n",
       "</style>\n",
       "<table border=\"1\" class=\"dataframe\">\n",
       "  <thead>\n",
       "    <tr style=\"text-align: right;\">\n",
       "      <th></th>\n",
       "      <th>LOT</th>\n",
       "      <th>TIME_STAMP</th>\n",
       "      <th>RESULT</th>\n",
       "    </tr>\n",
       "  </thead>\n",
       "  <tbody>\n",
       "    <tr>\n",
       "      <th>count</th>\n",
       "      <td>7720</td>\n",
       "      <td>7720</td>\n",
       "      <td>7720</td>\n",
       "    </tr>\n",
       "    <tr>\n",
       "      <th>unique</th>\n",
       "      <td>7720</td>\n",
       "      <td>4462</td>\n",
       "      <td>2</td>\n",
       "    </tr>\n",
       "    <tr>\n",
       "      <th>top</th>\n",
       "      <td>4E922-05020HDD20220418075712</td>\n",
       "      <td>2022-05-05 02:25:32</td>\n",
       "      <td>GOOD</td>\n",
       "    </tr>\n",
       "    <tr>\n",
       "      <th>freq</th>\n",
       "      <td>1</td>\n",
       "      <td>3</td>\n",
       "      <td>7598</td>\n",
       "    </tr>\n",
       "  </tbody>\n",
       "</table>\n",
       "</div>"
      ],
      "text/plain": [
       "                                 LOT           TIME_STAMP RESULT\n",
       "count                           7720                 7720   7720\n",
       "unique                          7720                 4462      2\n",
       "top     4E922-05020HDD20220418075712  2022-05-05 02:25:32   GOOD\n",
       "freq                               1                    3   7598"
      ]
     },
     "execution_count": 8,
     "metadata": {},
     "output_type": "execute_result"
    }
   ],
   "source": [
    "train.describe(include = ['O']) # 범주형 데이터 describe"
   ]
  },
  {
   "cell_type": "code",
   "execution_count": 9,
   "id": "8e0e8000",
   "metadata": {},
   "outputs": [
    {
     "data": {
      "text/html": [
       "<div>\n",
       "<style scoped>\n",
       "    .dataframe tbody tr th:only-of-type {\n",
       "        vertical-align: middle;\n",
       "    }\n",
       "\n",
       "    .dataframe tbody tr th {\n",
       "        vertical-align: top;\n",
       "    }\n",
       "\n",
       "    .dataframe thead th {\n",
       "        text-align: right;\n",
       "    }\n",
       "</style>\n",
       "<table border=\"1\" class=\"dataframe\">\n",
       "  <thead>\n",
       "    <tr style=\"text-align: right;\">\n",
       "      <th></th>\n",
       "      <th>LOT</th>\n",
       "      <th>TIME_STAMP</th>\n",
       "      <th>RESULT</th>\n",
       "    </tr>\n",
       "  </thead>\n",
       "  <tbody>\n",
       "    <tr>\n",
       "      <th>count</th>\n",
       "      <td>1930</td>\n",
       "      <td>1930</td>\n",
       "      <td>1930</td>\n",
       "    </tr>\n",
       "    <tr>\n",
       "      <th>unique</th>\n",
       "      <td>1930</td>\n",
       "      <td>1550</td>\n",
       "      <td>2</td>\n",
       "    </tr>\n",
       "    <tr>\n",
       "      <th>top</th>\n",
       "      <td>M7925-11000HDD20220526014142</td>\n",
       "      <td>2022-05-26 01:41:42</td>\n",
       "      <td>GOOD</td>\n",
       "    </tr>\n",
       "    <tr>\n",
       "      <th>freq</th>\n",
       "      <td>1</td>\n",
       "      <td>2</td>\n",
       "      <td>1835</td>\n",
       "    </tr>\n",
       "  </tbody>\n",
       "</table>\n",
       "</div>"
      ],
      "text/plain": [
       "                                 LOT           TIME_STAMP RESULT\n",
       "count                           1930                 1930   1930\n",
       "unique                          1930                 1550      2\n",
       "top     M7925-11000HDD20220526014142  2022-05-26 01:41:42   GOOD\n",
       "freq                               1                    2   1835"
      ]
     },
     "execution_count": 9,
     "metadata": {},
     "output_type": "execute_result"
    }
   ],
   "source": [
    "test.describe(include = ['O'])"
   ]
  },
  {
   "cell_type": "code",
   "execution_count": 10,
   "id": "b4340eef",
   "metadata": {},
   "outputs": [
    {
     "data": {
      "text/plain": [
       "array(['GOOD', 'NOT_GOOD'], dtype=object)"
      ]
     },
     "execution_count": 10,
     "metadata": {},
     "output_type": "execute_result"
    }
   ],
   "source": [
    "test['RESULT'].unique()"
   ]
  },
  {
   "cell_type": "code",
   "execution_count": 11,
   "id": "e0b78580",
   "metadata": {},
   "outputs": [
    {
     "data": {
      "text/plain": [
       "Text(0, 0.5, 'Frequency')"
      ]
     },
     "execution_count": 11,
     "metadata": {},
     "output_type": "execute_result"
    },
    {
     "data": {
      "image/png": "[encoded data removed]",
      "text/plain": [
       "<Figure size 432x288 with 1 Axes>"
      ]
     },
     "metadata": {
      "needs_background": "light"
     },
     "output_type": "display_data"
    }
   ],
   "source": [
    "count_RESULT = pd.value_counts(train['RESULT'], sort = True).sort_index()\n",
    "count_RESULT.plot(kind = 'bar')\n",
    "plt.title(\"RESULT histogram\")\n",
    "plt.xlabel(\"RESULT\")\n",
    "plt.ylabel(\"Frequency\")"
   ]
  },
  {
   "cell_type": "markdown",
   "id": "c8fd4bb6",
   "metadata": {},
   "source": [
    "상관 행렬\n",
    "plt.figure(figsize = (8,8))\n",
    "sns.heatmap(train.corr(), cmap= 'Spectral', annot=True, square=True)"
   ]
  },
  {
   "cell_type": "markdown",
   "id": "b95e9e6f",
   "metadata": {},
   "source": [
    "column이 너무 많아 EDA(탐색적데이터분석) & feature engineering 은 불가하다고 판단. <br>\n",
    "필요없는 칼럼 drop 후 모델링 진행"
   ]
  },
  {
   "cell_type": "code",
   "execution_count": 12,
   "id": "f3b02778",
   "metadata": {},
   "outputs": [],
   "source": [
    "# Time Stamp, 'LOT' 은 불필요하다고 판단되어 drop\n",
    "train = train.drop(['TIME_STAMP'], axis=1)\n",
    "train = train.drop(['LOT'], axis=1)\n",
    "test = test.drop(['TIME_STAMP'], axis = 1)\n",
    "test = test.drop(['LOT'], axis = 1)\n",
    "combine = [train, test] # 한 번에 처리를 위해 combine."
   ]
  },
  {
   "cell_type": "code",
   "execution_count": 13,
   "id": "d92a9e01",
   "metadata": {},
   "outputs": [
    {
     "name": "stdout",
     "output_type": "stream",
     "text": [
      "(7720, 98) (1930, 98)\n"
     ]
    }
   ],
   "source": [
    "print(train.shape, test.shape)"
   ]
  },
  {
   "cell_type": "markdown",
   "id": "41d75ce6",
   "metadata": {},
   "source": [
    "# Modeling"
   ]
  },
  {
   "cell_type": "code",
   "execution_count": 14,
   "id": "2d547477",
   "metadata": {},
   "outputs": [],
   "source": [
    "from sklearn.model_selection import train_test_split \n",
    "from sklearn.linear_model import LogisticRegression\n",
    "from sklearn.metrics import classification_report, accuracy_score, plot_confusion_matrix\n",
    "from sklearn.manifold import TSNE\n",
    "from sklearn import preprocessing \n",
    "import matplotlib.pyplot as plt\n",
    "import pandas as pd \n",
    "import numpy as np\n",
    "import seaborn as sns\n",
    "sns.set(style=\"whitegrid\")\n",
    "np.random.seed(203)"
   ]
  },
  {
   "cell_type": "code",
   "execution_count": 15,
   "id": "6a781ed1",
   "metadata": {},
   "outputs": [
    {
     "data": {
      "text/html": [
       "<div>\n",
       "<style scoped>\n",
       "    .dataframe tbody tr th:only-of-type {\n",
       "        vertical-align: middle;\n",
       "    }\n",
       "\n",
       "    .dataframe tbody tr th {\n",
       "        vertical-align: top;\n",
       "    }\n",
       "\n",
       "    .dataframe thead th {\n",
       "        text-align: right;\n",
       "    }\n",
       "</style>\n",
       "<table border=\"1\" class=\"dataframe\">\n",
       "  <thead>\n",
       "    <tr style=\"text-align: right;\">\n",
       "      <th></th>\n",
       "      <th>Target</th>\n",
       "      <th>RESULT</th>\n",
       "      <th>percent</th>\n",
       "    </tr>\n",
       "  </thead>\n",
       "  <tbody>\n",
       "    <tr>\n",
       "      <th>0</th>\n",
       "      <td>GOOD</td>\n",
       "      <td>7598</td>\n",
       "      <td>98.42</td>\n",
       "    </tr>\n",
       "    <tr>\n",
       "      <th>1</th>\n",
       "      <td>NOT_GOOD</td>\n",
       "      <td>122</td>\n",
       "      <td>1.58</td>\n",
       "    </tr>\n",
       "  </tbody>\n",
       "</table>\n",
       "</div>"
      ],
      "text/plain": [
       "     Target  RESULT  percent\n",
       "0      GOOD    7598    98.42\n",
       "1  NOT_GOOD     122     1.58"
      ]
     },
     "execution_count": 15,
     "metadata": {},
     "output_type": "execute_result"
    }
   ],
   "source": [
    "vc = train['RESULT'].value_counts().to_frame().reset_index()\n",
    "vc['percent'] = vc[\"RESULT\"].apply(lambda x : round(100*float(x) / len(train), 2))\n",
    "vc = vc.rename(columns = {\"index\" : \"Target\", \"Class\" : \"Count\"})\n",
    "vc"
   ]
  },
  {
   "cell_type": "markdown",
   "id": "cf1d07b9",
   "metadata": {},
   "source": [
    "- NOT_GOOD 의 비율이 1.58% 로 적은 비율을 차지하고 있다."
   ]
  },
  {
   "cell_type": "code",
   "execution_count": 16,
   "id": "efc99e51",
   "metadata": {},
   "outputs": [
    {
     "data": {
      "text/html": [
       "<div>\n",
       "<style scoped>\n",
       "    .dataframe tbody tr th:only-of-type {\n",
       "        vertical-align: middle;\n",
       "    }\n",
       "\n",
       "    .dataframe tbody tr th {\n",
       "        vertical-align: top;\n",
       "    }\n",
       "\n",
       "    .dataframe thead th {\n",
       "        text-align: right;\n",
       "    }\n",
       "</style>\n",
       "<table border=\"1\" class=\"dataframe\">\n",
       "  <thead>\n",
       "    <tr style=\"text-align: right;\">\n",
       "      <th></th>\n",
       "      <th>CycleTime</th>\n",
       "      <th>uvlamp_cycletime</th>\n",
       "      <th>InjTime</th>\n",
       "      <th>RecoveryT</th>\n",
       "      <th>Cushion</th>\n",
       "      <th>InjSpeed</th>\n",
       "      <th>InjPress</th>\n",
       "      <th>TotalShot</th>\n",
       "      <th>ThroatTemp</th>\n",
       "      <th>HPTransPrs</th>\n",
       "      <th>...</th>\n",
       "      <th>WH4INFLUX</th>\n",
       "      <th>CTACTIONTEMPP</th>\n",
       "      <th>CTACTIONTEMPS</th>\n",
       "      <th>CTPRESSURE</th>\n",
       "      <th>CTOUTTEMP</th>\n",
       "      <th>OUTTEMP</th>\n",
       "      <th>OUTHUMIDITY</th>\n",
       "      <th>MI_TEST_RESULT</th>\n",
       "      <th>PAMCALE_RESULT</th>\n",
       "      <th>RESULT</th>\n",
       "    </tr>\n",
       "  </thead>\n",
       "  <tbody>\n",
       "    <tr>\n",
       "      <th>0</th>\n",
       "      <td>57.9</td>\n",
       "      <td>379</td>\n",
       "      <td>0.0</td>\n",
       "      <td>19.33</td>\n",
       "      <td>25.8</td>\n",
       "      <td>29.3</td>\n",
       "      <td>953</td>\n",
       "      <td>28944</td>\n",
       "      <td>40.4</td>\n",
       "      <td>91.9</td>\n",
       "      <td>...</td>\n",
       "      <td>3.48</td>\n",
       "      <td>24.1</td>\n",
       "      <td>24</td>\n",
       "      <td>1.9</td>\n",
       "      <td>22.9</td>\n",
       "      <td>14.9</td>\n",
       "      <td>48.3</td>\n",
       "      <td>17.2</td>\n",
       "      <td>0</td>\n",
       "      <td>1</td>\n",
       "    </tr>\n",
       "    <tr>\n",
       "      <th>1</th>\n",
       "      <td>58.0</td>\n",
       "      <td>379</td>\n",
       "      <td>0.0</td>\n",
       "      <td>19.43</td>\n",
       "      <td>25.7</td>\n",
       "      <td>29.3</td>\n",
       "      <td>958</td>\n",
       "      <td>28945</td>\n",
       "      <td>40.5</td>\n",
       "      <td>92.6</td>\n",
       "      <td>...</td>\n",
       "      <td>3.48</td>\n",
       "      <td>24.0</td>\n",
       "      <td>24</td>\n",
       "      <td>1.9</td>\n",
       "      <td>22.9</td>\n",
       "      <td>15.0</td>\n",
       "      <td>48.2</td>\n",
       "      <td>17.2</td>\n",
       "      <td>0</td>\n",
       "      <td>1</td>\n",
       "    </tr>\n",
       "    <tr>\n",
       "      <th>2</th>\n",
       "      <td>58.0</td>\n",
       "      <td>379</td>\n",
       "      <td>0.0</td>\n",
       "      <td>19.23</td>\n",
       "      <td>25.8</td>\n",
       "      <td>29.3</td>\n",
       "      <td>959</td>\n",
       "      <td>28946</td>\n",
       "      <td>40.6</td>\n",
       "      <td>92.5</td>\n",
       "      <td>...</td>\n",
       "      <td>3.46</td>\n",
       "      <td>24.2</td>\n",
       "      <td>24</td>\n",
       "      <td>1.9</td>\n",
       "      <td>22.5</td>\n",
       "      <td>15.1</td>\n",
       "      <td>47.7</td>\n",
       "      <td>17.2</td>\n",
       "      <td>0</td>\n",
       "      <td>1</td>\n",
       "    </tr>\n",
       "    <tr>\n",
       "      <th>3</th>\n",
       "      <td>58.0</td>\n",
       "      <td>379</td>\n",
       "      <td>0.0</td>\n",
       "      <td>19.38</td>\n",
       "      <td>25.8</td>\n",
       "      <td>29.3</td>\n",
       "      <td>954</td>\n",
       "      <td>28947</td>\n",
       "      <td>40.8</td>\n",
       "      <td>92.1</td>\n",
       "      <td>...</td>\n",
       "      <td>3.48</td>\n",
       "      <td>24.1</td>\n",
       "      <td>24</td>\n",
       "      <td>2.0</td>\n",
       "      <td>22.3</td>\n",
       "      <td>15.4</td>\n",
       "      <td>47.2</td>\n",
       "      <td>17.2</td>\n",
       "      <td>0</td>\n",
       "      <td>1</td>\n",
       "    </tr>\n",
       "    <tr>\n",
       "      <th>4</th>\n",
       "      <td>58.0</td>\n",
       "      <td>379</td>\n",
       "      <td>0.0</td>\n",
       "      <td>19.39</td>\n",
       "      <td>25.8</td>\n",
       "      <td>29.3</td>\n",
       "      <td>951</td>\n",
       "      <td>28948</td>\n",
       "      <td>40.8</td>\n",
       "      <td>91.6</td>\n",
       "      <td>...</td>\n",
       "      <td>3.47</td>\n",
       "      <td>24.1</td>\n",
       "      <td>24</td>\n",
       "      <td>1.9</td>\n",
       "      <td>22.2</td>\n",
       "      <td>15.5</td>\n",
       "      <td>47.4</td>\n",
       "      <td>17.2</td>\n",
       "      <td>0</td>\n",
       "      <td>1</td>\n",
       "    </tr>\n",
       "  </tbody>\n",
       "</table>\n",
       "<p>5 rows × 98 columns</p>\n",
       "</div>"
      ],
      "text/plain": [
       "   CycleTime  uvlamp_cycletime  InjTime  RecoveryT  Cushion  InjSpeed  \\\n",
       "0       57.9               379      0.0      19.33     25.8      29.3   \n",
       "1       58.0               379      0.0      19.43     25.7      29.3   \n",
       "2       58.0               379      0.0      19.23     25.8      29.3   \n",
       "3       58.0               379      0.0      19.38     25.8      29.3   \n",
       "4       58.0               379      0.0      19.39     25.8      29.3   \n",
       "\n",
       "   InjPress  TotalShot  ThroatTemp  HPTransPrs  ...  WH4INFLUX  CTACTIONTEMPP  \\\n",
       "0       953      28944        40.4        91.9  ...       3.48           24.1   \n",
       "1       958      28945        40.5        92.6  ...       3.48           24.0   \n",
       "2       959      28946        40.6        92.5  ...       3.46           24.2   \n",
       "3       954      28947        40.8        92.1  ...       3.48           24.1   \n",
       "4       951      28948        40.8        91.6  ...       3.47           24.1   \n",
       "\n",
       "   CTACTIONTEMPS  CTPRESSURE  CTOUTTEMP  OUTTEMP  OUTHUMIDITY  MI_TEST_RESULT  \\\n",
       "0             24         1.9       22.9     14.9         48.3            17.2   \n",
       "1             24         1.9       22.9     15.0         48.2            17.2   \n",
       "2             24         1.9       22.5     15.1         47.7            17.2   \n",
       "3             24         2.0       22.3     15.4         47.2            17.2   \n",
       "4             24         1.9       22.2     15.5         47.4            17.2   \n",
       "\n",
       "   PAMCALE_RESULT  RESULT  \n",
       "0               0       1  \n",
       "1               0       1  \n",
       "2               0       1  \n",
       "3               0       1  \n",
       "4               0       1  \n",
       "\n",
       "[5 rows x 98 columns]"
      ]
     },
     "execution_count": 16,
     "metadata": {},
     "output_type": "execute_result"
    }
   ],
   "source": [
    "for dataset in combine :\n",
    "    dataset['RESULT'] = dataset['RESULT'].map( {'GOOD' : 1, 'NOT_GOOD' : 0}).astype(int)\n",
    "    # GOOD, NOT_GOOD 을 0,1로 바꾸어주기.\n",
    "    \n",
    "train.head()"
   ]
  },
  {
   "cell_type": "code",
   "execution_count": 17,
   "id": "a4193e2a",
   "metadata": {},
   "outputs": [],
   "source": [
    "train = pd.DataFrame(train)"
   ]
  },
  {
   "cell_type": "code",
   "execution_count": 18,
   "id": "10aaa6ed",
   "metadata": {},
   "outputs": [
    {
     "data": {
      "text/html": [
       "<div>\n",
       "<style scoped>\n",
       "    .dataframe tbody tr th:only-of-type {\n",
       "        vertical-align: middle;\n",
       "    }\n",
       "\n",
       "    .dataframe tbody tr th {\n",
       "        vertical-align: top;\n",
       "    }\n",
       "\n",
       "    .dataframe thead th {\n",
       "        text-align: right;\n",
       "    }\n",
       "</style>\n",
       "<table border=\"1\" class=\"dataframe\">\n",
       "  <thead>\n",
       "    <tr style=\"text-align: right;\">\n",
       "      <th></th>\n",
       "      <th>CycleTime</th>\n",
       "      <th>uvlamp_cycletime</th>\n",
       "      <th>InjTime</th>\n",
       "      <th>RecoveryT</th>\n",
       "      <th>Cushion</th>\n",
       "      <th>InjSpeed</th>\n",
       "      <th>InjPress</th>\n",
       "      <th>TotalShot</th>\n",
       "      <th>ThroatTemp</th>\n",
       "      <th>HPTransPrs</th>\n",
       "      <th>...</th>\n",
       "      <th>WH4INFLUX</th>\n",
       "      <th>CTACTIONTEMPP</th>\n",
       "      <th>CTACTIONTEMPS</th>\n",
       "      <th>CTPRESSURE</th>\n",
       "      <th>CTOUTTEMP</th>\n",
       "      <th>OUTTEMP</th>\n",
       "      <th>OUTHUMIDITY</th>\n",
       "      <th>MI_TEST_RESULT</th>\n",
       "      <th>PAMCALE_RESULT</th>\n",
       "      <th>RESULT</th>\n",
       "    </tr>\n",
       "  </thead>\n",
       "  <tbody>\n",
       "    <tr>\n",
       "      <th>0</th>\n",
       "      <td>59.7</td>\n",
       "      <td>871</td>\n",
       "      <td>11.05</td>\n",
       "      <td>12.45</td>\n",
       "      <td>16.6</td>\n",
       "      <td>19.3</td>\n",
       "      <td>1463</td>\n",
       "      <td>369705</td>\n",
       "      <td>50.2</td>\n",
       "      <td>142.8</td>\n",
       "      <td>...</td>\n",
       "      <td>0.00</td>\n",
       "      <td>25.5</td>\n",
       "      <td>24</td>\n",
       "      <td>1.8</td>\n",
       "      <td>23.5</td>\n",
       "      <td>26.3</td>\n",
       "      <td>37.6</td>\n",
       "      <td>18</td>\n",
       "      <td>0</td>\n",
       "      <td>1</td>\n",
       "    </tr>\n",
       "    <tr>\n",
       "      <th>1</th>\n",
       "      <td>59.3</td>\n",
       "      <td>871</td>\n",
       "      <td>11.06</td>\n",
       "      <td>12.50</td>\n",
       "      <td>16.6</td>\n",
       "      <td>19.3</td>\n",
       "      <td>1465</td>\n",
       "      <td>369706</td>\n",
       "      <td>50.3</td>\n",
       "      <td>142.6</td>\n",
       "      <td>...</td>\n",
       "      <td>0.00</td>\n",
       "      <td>25.5</td>\n",
       "      <td>24</td>\n",
       "      <td>1.8</td>\n",
       "      <td>23.5</td>\n",
       "      <td>26.1</td>\n",
       "      <td>37.9</td>\n",
       "      <td>18</td>\n",
       "      <td>0</td>\n",
       "      <td>1</td>\n",
       "    </tr>\n",
       "    <tr>\n",
       "      <th>2</th>\n",
       "      <td>59.7</td>\n",
       "      <td>871</td>\n",
       "      <td>11.06</td>\n",
       "      <td>12.28</td>\n",
       "      <td>16.6</td>\n",
       "      <td>19.3</td>\n",
       "      <td>1463</td>\n",
       "      <td>369707</td>\n",
       "      <td>50.3</td>\n",
       "      <td>142.7</td>\n",
       "      <td>...</td>\n",
       "      <td>0.00</td>\n",
       "      <td>25.5</td>\n",
       "      <td>24</td>\n",
       "      <td>1.8</td>\n",
       "      <td>23.4</td>\n",
       "      <td>26.0</td>\n",
       "      <td>38.3</td>\n",
       "      <td>18</td>\n",
       "      <td>0</td>\n",
       "      <td>1</td>\n",
       "    </tr>\n",
       "    <tr>\n",
       "      <th>3</th>\n",
       "      <td>59.3</td>\n",
       "      <td>871</td>\n",
       "      <td>11.08</td>\n",
       "      <td>12.41</td>\n",
       "      <td>16.6</td>\n",
       "      <td>19.3</td>\n",
       "      <td>1465</td>\n",
       "      <td>369708</td>\n",
       "      <td>50.3</td>\n",
       "      <td>142.9</td>\n",
       "      <td>...</td>\n",
       "      <td>0.00</td>\n",
       "      <td>25.5</td>\n",
       "      <td>24</td>\n",
       "      <td>1.9</td>\n",
       "      <td>23.6</td>\n",
       "      <td>25.9</td>\n",
       "      <td>38.6</td>\n",
       "      <td>18</td>\n",
       "      <td>0</td>\n",
       "      <td>1</td>\n",
       "    </tr>\n",
       "    <tr>\n",
       "      <th>4</th>\n",
       "      <td>59.6</td>\n",
       "      <td>871</td>\n",
       "      <td>11.08</td>\n",
       "      <td>12.24</td>\n",
       "      <td>16.6</td>\n",
       "      <td>19.3</td>\n",
       "      <td>1463</td>\n",
       "      <td>369709</td>\n",
       "      <td>50.3</td>\n",
       "      <td>142.6</td>\n",
       "      <td>...</td>\n",
       "      <td>0.00</td>\n",
       "      <td>25.6</td>\n",
       "      <td>24</td>\n",
       "      <td>1.8</td>\n",
       "      <td>23.6</td>\n",
       "      <td>25.9</td>\n",
       "      <td>38.6</td>\n",
       "      <td>18</td>\n",
       "      <td>0</td>\n",
       "      <td>1</td>\n",
       "    </tr>\n",
       "    <tr>\n",
       "      <th>...</th>\n",
       "      <td>...</td>\n",
       "      <td>...</td>\n",
       "      <td>...</td>\n",
       "      <td>...</td>\n",
       "      <td>...</td>\n",
       "      <td>...</td>\n",
       "      <td>...</td>\n",
       "      <td>...</td>\n",
       "      <td>...</td>\n",
       "      <td>...</td>\n",
       "      <td>...</td>\n",
       "      <td>...</td>\n",
       "      <td>...</td>\n",
       "      <td>...</td>\n",
       "      <td>...</td>\n",
       "      <td>...</td>\n",
       "      <td>...</td>\n",
       "      <td>...</td>\n",
       "      <td>...</td>\n",
       "      <td>...</td>\n",
       "      <td>...</td>\n",
       "    </tr>\n",
       "    <tr>\n",
       "      <th>1925</th>\n",
       "      <td>61.8</td>\n",
       "      <td>691</td>\n",
       "      <td>0.00</td>\n",
       "      <td>10.07</td>\n",
       "      <td>12.0</td>\n",
       "      <td>38.3</td>\n",
       "      <td>1224</td>\n",
       "      <td>41838</td>\n",
       "      <td>48.0</td>\n",
       "      <td>89.8</td>\n",
       "      <td>...</td>\n",
       "      <td>10.90</td>\n",
       "      <td>23.6</td>\n",
       "      <td>24</td>\n",
       "      <td>1.9</td>\n",
       "      <td>22.9</td>\n",
       "      <td>29.2</td>\n",
       "      <td>31.3</td>\n",
       "      <td>18</td>\n",
       "      <td>0</td>\n",
       "      <td>1</td>\n",
       "    </tr>\n",
       "    <tr>\n",
       "      <th>1926</th>\n",
       "      <td>61.2</td>\n",
       "      <td>691</td>\n",
       "      <td>0.00</td>\n",
       "      <td>9.98</td>\n",
       "      <td>11.8</td>\n",
       "      <td>38.0</td>\n",
       "      <td>1217</td>\n",
       "      <td>41839</td>\n",
       "      <td>48.0</td>\n",
       "      <td>90.0</td>\n",
       "      <td>...</td>\n",
       "      <td>10.92</td>\n",
       "      <td>23.6</td>\n",
       "      <td>24</td>\n",
       "      <td>1.9</td>\n",
       "      <td>22.9</td>\n",
       "      <td>29.1</td>\n",
       "      <td>31.3</td>\n",
       "      <td>18</td>\n",
       "      <td>0</td>\n",
       "      <td>1</td>\n",
       "    </tr>\n",
       "    <tr>\n",
       "      <th>1927</th>\n",
       "      <td>61.7</td>\n",
       "      <td>691</td>\n",
       "      <td>0.00</td>\n",
       "      <td>10.02</td>\n",
       "      <td>12.0</td>\n",
       "      <td>38.3</td>\n",
       "      <td>1227</td>\n",
       "      <td>41840</td>\n",
       "      <td>48.0</td>\n",
       "      <td>89.0</td>\n",
       "      <td>...</td>\n",
       "      <td>10.92</td>\n",
       "      <td>23.6</td>\n",
       "      <td>24</td>\n",
       "      <td>1.9</td>\n",
       "      <td>22.9</td>\n",
       "      <td>29.0</td>\n",
       "      <td>31.7</td>\n",
       "      <td>18</td>\n",
       "      <td>0</td>\n",
       "      <td>1</td>\n",
       "    </tr>\n",
       "    <tr>\n",
       "      <th>1928</th>\n",
       "      <td>61.2</td>\n",
       "      <td>691</td>\n",
       "      <td>0.00</td>\n",
       "      <td>9.98</td>\n",
       "      <td>12.0</td>\n",
       "      <td>38.3</td>\n",
       "      <td>1225</td>\n",
       "      <td>41841</td>\n",
       "      <td>48.0</td>\n",
       "      <td>89.2</td>\n",
       "      <td>...</td>\n",
       "      <td>10.95</td>\n",
       "      <td>23.6</td>\n",
       "      <td>24</td>\n",
       "      <td>1.9</td>\n",
       "      <td>22.9</td>\n",
       "      <td>29.0</td>\n",
       "      <td>31.6</td>\n",
       "      <td>18</td>\n",
       "      <td>0</td>\n",
       "      <td>1</td>\n",
       "    </tr>\n",
       "    <tr>\n",
       "      <th>1929</th>\n",
       "      <td>61.7</td>\n",
       "      <td>691</td>\n",
       "      <td>0.00</td>\n",
       "      <td>10.12</td>\n",
       "      <td>11.8</td>\n",
       "      <td>38.0</td>\n",
       "      <td>1214</td>\n",
       "      <td>41842</td>\n",
       "      <td>48.2</td>\n",
       "      <td>89.7</td>\n",
       "      <td>...</td>\n",
       "      <td>10.93</td>\n",
       "      <td>23.6</td>\n",
       "      <td>24</td>\n",
       "      <td>1.9</td>\n",
       "      <td>22.9</td>\n",
       "      <td>28.9</td>\n",
       "      <td>31.8</td>\n",
       "      <td>18</td>\n",
       "      <td>0</td>\n",
       "      <td>1</td>\n",
       "    </tr>\n",
       "  </tbody>\n",
       "</table>\n",
       "<p>1930 rows × 98 columns</p>\n",
       "</div>"
      ],
      "text/plain": [
       "      CycleTime  uvlamp_cycletime  InjTime  RecoveryT  Cushion  InjSpeed  \\\n",
       "0          59.7               871    11.05      12.45     16.6      19.3   \n",
       "1          59.3               871    11.06      12.50     16.6      19.3   \n",
       "2          59.7               871    11.06      12.28     16.6      19.3   \n",
       "3          59.3               871    11.08      12.41     16.6      19.3   \n",
       "4          59.6               871    11.08      12.24     16.6      19.3   \n",
       "...         ...               ...      ...        ...      ...       ...   \n",
       "1925       61.8               691     0.00      10.07     12.0      38.3   \n",
       "1926       61.2               691     0.00       9.98     11.8      38.0   \n",
       "1927       61.7               691     0.00      10.02     12.0      38.3   \n",
       "1928       61.2               691     0.00       9.98     12.0      38.3   \n",
       "1929       61.7               691     0.00      10.12     11.8      38.0   \n",
       "\n",
       "      InjPress  TotalShot  ThroatTemp  HPTransPrs  ...  WH4INFLUX  \\\n",
       "0         1463     369705        50.2       142.8  ...       0.00   \n",
       "1         1465     369706        50.3       142.6  ...       0.00   \n",
       "2         1463     369707        50.3       142.7  ...       0.00   \n",
       "3         1465     369708        50.3       142.9  ...       0.00   \n",
       "4         1463     369709        50.3       142.6  ...       0.00   \n",
       "...        ...        ...         ...         ...  ...        ...   \n",
       "1925      1224      41838        48.0        89.8  ...      10.90   \n",
       "1926      1217      41839        48.0        90.0  ...      10.92   \n",
       "1927      1227      41840        48.0        89.0  ...      10.92   \n",
       "1928      1225      41841        48.0        89.2  ...      10.95   \n",
       "1929      1214      41842        48.2        89.7  ...      10.93   \n",
       "\n",
       "      CTACTIONTEMPP  CTACTIONTEMPS  CTPRESSURE  CTOUTTEMP  OUTTEMP  \\\n",
       "0              25.5             24         1.8       23.5     26.3   \n",
       "1              25.5             24         1.8       23.5     26.1   \n",
       "2              25.5             24         1.8       23.4     26.0   \n",
       "3              25.5             24         1.9       23.6     25.9   \n",
       "4              25.6             24         1.8       23.6     25.9   \n",
       "...             ...            ...         ...        ...      ...   \n",
       "1925           23.6             24         1.9       22.9     29.2   \n",
       "1926           23.6             24         1.9       22.9     29.1   \n",
       "1927           23.6             24         1.9       22.9     29.0   \n",
       "1928           23.6             24         1.9       22.9     29.0   \n",
       "1929           23.6             24         1.9       22.9     28.9   \n",
       "\n",
       "      OUTHUMIDITY  MI_TEST_RESULT  PAMCALE_RESULT  RESULT  \n",
       "0            37.6              18               0       1  \n",
       "1            37.9              18               0       1  \n",
       "2            38.3              18               0       1  \n",
       "3            38.6              18               0       1  \n",
       "4            38.6              18               0       1  \n",
       "...           ...             ...             ...     ...  \n",
       "1925         31.3              18               0       1  \n",
       "1926         31.3              18               0       1  \n",
       "1927         31.7              18               0       1  \n",
       "1928         31.6              18               0       1  \n",
       "1929         31.8              18               0       1  \n",
       "\n",
       "[1930 rows x 98 columns]"
      ]
     },
     "execution_count": 18,
     "metadata": {},
     "output_type": "execute_result"
    }
   ],
   "source": [
    "test"
   ]
  },
  {
   "cell_type": "code",
   "execution_count": 19,
   "id": "3d14f98c",
   "metadata": {},
   "outputs": [],
   "source": [
    "## train, text 데이터들 분리\n",
    "x_train = train.loc[:, 'CycleTime':'PAMCALE_RESULT']\n",
    "y_train = train['RESULT'] # 예측할 변수 분리\n",
    "x_test = test.loc[:, 'CycleTime':'PAMCALE_RESULT']\n",
    "y_test = test['RESULT'] # 검증 데이터"
   ]
  },
  {
   "cell_type": "code",
   "execution_count": 20,
   "id": "ea8a90ec",
   "metadata": {},
   "outputs": [
    {
     "name": "stdout",
     "output_type": "stream",
     "text": [
      "(7720, 97) (7720,) (1930, 97) (1930,)\n"
     ]
    }
   ],
   "source": [
    "print(x_train.shape, y_train.shape, x_test.shape, y_test.shape)"
   ]
  },
  {
   "cell_type": "markdown",
   "id": "6a923a7c",
   "metadata": {},
   "source": [
    "### Logistic Reggression\n",
    "\n",
    "<hr>\n",
    "\n",
    "- 독립변수의 선형 결합을 이용하여 개별 관측치가 어느 집단에 속하는 지에 대한 확률을 계산.\n",
    "- 승산비를 이용하여 로지스틱 함수를 얻어 분석에 이용하는 것이 특징이다."
   ]
  },
  {
   "cell_type": "code",
   "execution_count": 21,
   "id": "17cb4c92",
   "metadata": {},
   "outputs": [
    {
     "data": {
      "text/plain": [
       "0.5316062176165803"
      ]
     },
     "execution_count": 21,
     "metadata": {},
     "output_type": "execute_result"
    }
   ],
   "source": [
    "## Logistic Regression\n",
    "from sklearn.linear_model import LogisticRegression\n",
    "\n",
    "model = LogisticRegression(random_state=0) # model define\n",
    "model.fit(x_train, y_train) # model fitting\n",
    "\n",
    "y_pred = model.predict(x_test) # test 데이터 학습\n",
    "\n",
    "# accuracy\n",
    "lr_score = model.score(x_test, y_test) \n",
    "lr_score"
   ]
  },
  {
   "cell_type": "code",
   "execution_count": 22,
   "id": "8dd1897c",
   "metadata": {},
   "outputs": [
    {
     "name": "stdout",
     "output_type": "stream",
     "text": [
      "              precision    recall  f1-score   support\n",
      "\n",
      "           0       0.05      0.45      0.09        95\n",
      "           1       0.95      0.54      0.69      1835\n",
      "\n",
      "    accuracy                           0.53      1930\n",
      "   macro avg       0.50      0.49      0.39      1930\n",
      "weighted avg       0.91      0.53      0.66      1930\n",
      "\n"
     ]
    }
   ],
   "source": [
    "print(classification_report(y_test, y_pred))"
   ]
  },
  {
   "cell_type": "code",
   "execution_count": 23,
   "id": "caad491b",
   "metadata": {},
   "outputs": [
    {
     "data": {
      "text/plain": [
       "Text(0.5, 1.0, '<< LogisticRegression >>')"
      ]
     },
     "execution_count": 23,
     "metadata": {},
     "output_type": "execute_result"
    },
    {
     "data": {
      "text/plain": [
       "<Figure size 1500x1500 with 0 Axes>"
      ]
     },
     "metadata": {},
     "output_type": "display_data"
    },
    {
     "data": {
      "image/png": "[encoded data removed]",
      "text/plain": [
       "<Figure size 640x480 with 2 Axes>"
      ]
     },
     "metadata": {},
     "output_type": "display_data"
    }
   ],
   "source": [
    "# Confusion Matrix 로 시각화\n",
    "plt.style.use('default')\n",
    "plt.figure(figsize=(15, 15))\n",
    "plot_confusion_matrix(model, x_test , y_test , cmap='Blues')\n",
    "plt.title(\"<< LogisticRegression >>\")"
   ]
  },
  {
   "cell_type": "markdown",
   "id": "16289c5d",
   "metadata": {},
   "source": [
    "### Gaussian Naive Bayes\n",
    "<hr>\n",
    "- 베이즈 정리를 이용하여 분류하는 모델"
   ]
  },
  {
   "cell_type": "code",
   "execution_count": 24,
   "id": "929c7bb1",
   "metadata": {},
   "outputs": [
    {
     "data": {
      "text/plain": [
       "0.9507772020725389"
      ]
     },
     "execution_count": 24,
     "metadata": {},
     "output_type": "execute_result"
    }
   ],
   "source": [
    "## Gaussian Naive Bayes\n",
    "from sklearn.naive_bayes import GaussianNB\n",
    "\n",
    "model = GaussianNB() # model define\n",
    "model.fit(x_train, y_train) # model fitting\n",
    "\n",
    "y_pred = model.predict(x_test) # inference\n",
    "\n",
    "# accuracy\n",
    "nb_score = model.score(x_test, y_test)\n",
    "nb_score"
   ]
  },
  {
   "cell_type": "code",
   "execution_count": 25,
   "id": "2a95b5a8",
   "metadata": {},
   "outputs": [
    {
     "name": "stdout",
     "output_type": "stream",
     "text": [
      "              precision    recall  f1-score   support\n",
      "\n",
      "           0       0.00      0.00      0.00        95\n",
      "           1       0.95      1.00      0.97      1835\n",
      "\n",
      "    accuracy                           0.95      1930\n",
      "   macro avg       0.48      0.50      0.49      1930\n",
      "weighted avg       0.90      0.95      0.93      1930\n",
      "\n"
     ]
    }
   ],
   "source": [
    "print(classification_report(y_test, y_pred))"
   ]
  },
  {
   "cell_type": "code",
   "execution_count": 26,
   "id": "33a11f6d",
   "metadata": {},
   "outputs": [
    {
     "data": {
      "text/plain": [
       "Text(0.5, 1.0, '<< Gaussian NaiveBayes >>')"
      ]
     },
     "execution_count": 26,
     "metadata": {},
     "output_type": "execute_result"
    },
    {
     "data": {
      "text/plain": [
       "<Figure size 1500x1500 with 0 Axes>"
      ]
     },
     "metadata": {},
     "output_type": "display_data"
    },
    {
     "data": {
      "image/png": "[encoded data removed]",
      "text/plain": [
       "<Figure size 640x480 with 2 Axes>"
      ]
     },
     "metadata": {},
     "output_type": "display_data"
    }
   ],
   "source": [
    "plt.style.use('default')\n",
    "plt.figure(figsize=(15, 15))\n",
    "plot_confusion_matrix(model, x_test , y_test , cmap='Blues')\n",
    "plt.title(\"<< Gaussian NaiveBayes >>\")"
   ]
  },
  {
   "cell_type": "markdown",
   "id": "0b7790ed",
   "metadata": {},
   "source": [
    "### KNN\n",
    "<hr>\n",
    "\n",
    "- K-최근접이웃법이라고 한다.\n",
    "- 입력과 결과가 있는 데이터들이 주어지고, 여기서 새로운 입력에 대한 결과를 추정할 때 결과를 모델이 알고 있는 최근접한 k개의 데이터에 대한 결과 정보를 이용해서 분류하는 분류기"
   ]
  },
  {
   "cell_type": "code",
   "execution_count": 27,
   "id": "75abf9fe",
   "metadata": {},
   "outputs": [
    {
     "data": {
      "text/plain": [
       "0.9507772020725389"
      ]
     },
     "execution_count": 27,
     "metadata": {},
     "output_type": "execute_result"
    }
   ],
   "source": [
    "## K-nearest Neighbors\n",
    "from sklearn.neighbors import KNeighborsClassifier\n",
    "\n",
    "model = KNeighborsClassifier(n_neighbors=3) # define\n",
    "model.fit(x_train, y_train) # fitting\n",
    "\n",
    "y_pred = model.predict(x_test) # inference\n",
    "\n",
    "# accuracy\n",
    "knn_score = model.score(x_test, y_test)\n",
    "knn_score"
   ]
  },
  {
   "cell_type": "code",
   "execution_count": 28,
   "id": "c22a74f1",
   "metadata": {},
   "outputs": [
    {
     "name": "stdout",
     "output_type": "stream",
     "text": [
      "              precision    recall  f1-score   support\n",
      "\n",
      "           0       0.00      0.00      0.00        95\n",
      "           1       0.95      1.00      0.97      1835\n",
      "\n",
      "    accuracy                           0.95      1930\n",
      "   macro avg       0.48      0.50      0.49      1930\n",
      "weighted avg       0.90      0.95      0.93      1930\n",
      "\n"
     ]
    }
   ],
   "source": [
    "print(classification_report(y_test, y_pred))"
   ]
  },
  {
   "cell_type": "code",
   "execution_count": 29,
   "id": "a9a3624e",
   "metadata": {},
   "outputs": [
    {
     "data": {
      "text/plain": [
       "Text(0.5, 1.0, '<< KNeighborsClassifier >>')"
      ]
     },
     "execution_count": 29,
     "metadata": {},
     "output_type": "execute_result"
    },
    {
     "data": {
      "text/plain": [
       "<Figure size 1500x1500 with 0 Axes>"
      ]
     },
     "metadata": {},
     "output_type": "display_data"
    },
    {
     "data": {
      "image/png": "[encoded data removed]",
      "text/plain": [
       "<Figure size 640x480 with 2 Axes>"
      ]
     },
     "metadata": {},
     "output_type": "display_data"
    }
   ],
   "source": [
    "plt.style.use('default')\n",
    "plt.figure(figsize=(15, 15))\n",
    "plot_confusion_matrix(model, x_test , y_test , cmap='Blues')\n",
    "plt.title(\"<< KNeighborsClassifier >>\")"
   ]
  },
  {
   "cell_type": "markdown",
   "id": "dc168342",
   "metadata": {},
   "source": [
    "### Decision Tree\n",
    "<hr>\n",
    "\n",
    "- 의사결정나무\n",
    "- 데이터들이 가진 속성들로부터 분할 기준 속성을 판별하고 이 속성에 따라 나무 형태로 모델링하는 모델"
   ]
  },
  {
   "cell_type": "code",
   "execution_count": 30,
   "id": "16d382f6",
   "metadata": {},
   "outputs": [
    {
     "data": {
      "text/plain": [
       "0.9507772020725389"
      ]
     },
     "execution_count": 30,
     "metadata": {},
     "output_type": "execute_result"
    }
   ],
   "source": [
    "## Decision Tree\n",
    "from sklearn.tree import DecisionTreeClassifier\n",
    "\n",
    "model = DecisionTreeClassifier(criterion='entropy', random_state=0, max_depth=3)\n",
    "model.fit(x_train, y_train)\n",
    "\n",
    "# inference\n",
    "y_pred = model.predict(x_test)\n",
    "\n",
    "# accuracy\n",
    "dt_score = model.score(x_test, y_test)\n",
    "dt_score"
   ]
  },
  {
   "cell_type": "code",
   "execution_count": 31,
   "id": "301b468e",
   "metadata": {},
   "outputs": [
    {
     "name": "stdout",
     "output_type": "stream",
     "text": [
      "              precision    recall  f1-score   support\n",
      "\n",
      "           0       0.00      0.00      0.00        95\n",
      "           1       0.95      1.00      0.97      1835\n",
      "\n",
      "    accuracy                           0.95      1930\n",
      "   macro avg       0.48      0.50      0.49      1930\n",
      "weighted avg       0.90      0.95      0.93      1930\n",
      "\n"
     ]
    }
   ],
   "source": [
    "print(classification_report(y_test, y_pred))"
   ]
  },
  {
   "cell_type": "code",
   "execution_count": 32,
   "id": "3f0f05e5",
   "metadata": {},
   "outputs": [
    {
     "data": {
      "text/plain": [
       "Text(0.5, 1.0, '<< DecisionTreeClassifier >>')"
      ]
     },
     "execution_count": 32,
     "metadata": {},
     "output_type": "execute_result"
    },
    {
     "data": {
      "text/plain": [
       "<Figure size 1500x1500 with 0 Axes>"
      ]
     },
     "metadata": {},
     "output_type": "display_data"
    },
    {
     "data": {
      "image/png": "[encoded data removed]",
      "text/plain": [
       "<Figure size 640x480 with 2 Axes>"
      ]
     },
     "metadata": {},
     "output_type": "display_data"
    }
   ],
   "source": [
    "plt.style.use('default')\n",
    "plt.figure(figsize=(15, 15))\n",
    "plot_confusion_matrix(model, x_test , y_test , cmap='Blues')\n",
    "plt.title(\"<< DecisionTreeClassifier >>\")"
   ]
  },
  {
   "cell_type": "markdown",
   "id": "bb5d609a",
   "metadata": {},
   "source": [
    "### Random Forest\n",
    "<hr>\n",
    "\n",
    "- Decision Tree 를 앙상블시킨 모델.\n",
    "- Decision Tree 를 통해 학습기를 생성한 후 이를 선형 결합하여 최종 학습기를 만든다."
   ]
  },
  {
   "cell_type": "code",
   "execution_count": 33,
   "id": "5544bd2f",
   "metadata": {},
   "outputs": [
    {
     "data": {
      "text/plain": [
       "0.9507772020725389"
      ]
     },
     "execution_count": 33,
     "metadata": {},
     "output_type": "execute_result"
    }
   ],
   "source": [
    "## Random Forest\n",
    "from sklearn.ensemble import RandomForestClassifier\n",
    "\n",
    "model = RandomForestClassifier(n_estimators=10, max_depth=3) # define\n",
    "model.fit(x_train, y_train) # fitting\n",
    "\n",
    "# inference\n",
    "y_pred = model.predict(x_test)\n",
    "\n",
    "# accuracy\n",
    "rf_score = model.score(x_test, y_test)\n",
    "rf_score"
   ]
  },
  {
   "cell_type": "code",
   "execution_count": 34,
   "id": "4fb05385",
   "metadata": {},
   "outputs": [
    {
     "name": "stdout",
     "output_type": "stream",
     "text": [
      "              precision    recall  f1-score   support\n",
      "\n",
      "           0       0.00      0.00      0.00        95\n",
      "           1       0.95      1.00      0.97      1835\n",
      "\n",
      "    accuracy                           0.95      1930\n",
      "   macro avg       0.48      0.50      0.49      1930\n",
      "weighted avg       0.90      0.95      0.93      1930\n",
      "\n"
     ]
    }
   ],
   "source": [
    "print(classification_report(y_test, y_pred))"
   ]
  },
  {
   "cell_type": "code",
   "execution_count": 35,
   "id": "5b7f77d0",
   "metadata": {},
   "outputs": [
    {
     "data": {
      "text/plain": [
       "Text(0.5, 1.0, '<< RandomForestClassifier >>')"
      ]
     },
     "execution_count": 35,
     "metadata": {},
     "output_type": "execute_result"
    },
    {
     "data": {
      "text/plain": [
       "<Figure size 1500x1500 with 0 Axes>"
      ]
     },
     "metadata": {},
     "output_type": "display_data"
    },
    {
     "data": {
      "image/png": "[encoded data removed]",
      "text/plain": [
       "<Figure size 640x480 with 2 Axes>"
      ]
     },
     "metadata": {},
     "output_type": "display_data"
    }
   ],
   "source": [
    "plt.style.use('default')\n",
    "plt.figure(figsize=(15, 15))\n",
    "plot_confusion_matrix(model, x_test , y_test , cmap='Blues')\n",
    "plt.title(\"<< RandomForestClassifier >>\")"
   ]
  },
  {
   "cell_type": "markdown",
   "id": "1e165068",
   "metadata": {},
   "source": [
    "### Support Vector Machine\n",
    "<hr>\n",
    "\n",
    "- 퍼셉트론 기반의 모형에 가장 안정적인 판별 경계선을 찾기 위한 제한 조건을 추가한 모형"
   ]
  },
  {
   "cell_type": "code",
   "execution_count": 36,
   "id": "f7947904",
   "metadata": {},
   "outputs": [
    {
     "data": {
      "text/plain": [
       "0.9507772020725389"
      ]
     },
     "execution_count": 36,
     "metadata": {},
     "output_type": "execute_result"
    }
   ],
   "source": [
    "## Support Vector Machine\n",
    "from sklearn.svm import SVC\n",
    "\n",
    "model = SVC(kernel='rbf', gamma='auto') # define\n",
    "model.fit(x_train, y_train) # fitting\n",
    "\n",
    "y_pred = model.predict(x_test)\n",
    "\n",
    "# accuracy\n",
    "svm_score = model.score(x_test, y_test)\n",
    "svm_score"
   ]
  },
  {
   "cell_type": "code",
   "execution_count": 37,
   "id": "de2173b4",
   "metadata": {},
   "outputs": [
    {
     "name": "stdout",
     "output_type": "stream",
     "text": [
      "              precision    recall  f1-score   support\n",
      "\n",
      "           0       0.00      0.00      0.00        95\n",
      "           1       0.95      1.00      0.97      1835\n",
      "\n",
      "    accuracy                           0.95      1930\n",
      "   macro avg       0.48      0.50      0.49      1930\n",
      "weighted avg       0.90      0.95      0.93      1930\n",
      "\n"
     ]
    }
   ],
   "source": [
    "print(classification_report(y_test, y_pred))"
   ]
  },
  {
   "cell_type": "code",
   "execution_count": 38,
   "id": "44846a92",
   "metadata": {},
   "outputs": [
    {
     "data": {
      "text/plain": [
       "Text(0.5, 1.0, '<< SVM >>')"
      ]
     },
     "execution_count": 38,
     "metadata": {},
     "output_type": "execute_result"
    },
    {
     "data": {
      "text/plain": [
       "<Figure size 1500x1500 with 0 Axes>"
      ]
     },
     "metadata": {},
     "output_type": "display_data"
    },
    {
     "data": {
      "image/png": "[encoded data removed]",
      "text/plain": [
       "<Figure size 640x480 with 2 Axes>"
      ]
     },
     "metadata": {},
     "output_type": "display_data"
    }
   ],
   "source": [
    "plt.style.use('default')\n",
    "plt.figure(figsize=(15, 15))\n",
    "plot_confusion_matrix(model, x_test , y_test , cmap='Blues')\n",
    "plt.title(\"<< SVM >>\")"
   ]
  },
  {
   "cell_type": "markdown",
   "id": "68faec6c",
   "metadata": {},
   "source": [
    "### XGBoost\n",
    "<hr>\n",
    "\n",
    "- Boosting 기법을 활용한 알고리즘\n",
    "- Gradient Boosting 에 병렬학습기능이 지원되도록 한 알고리즘"
   ]
  },
  {
   "cell_type": "code",
   "execution_count": 39,
   "id": "831794ef",
   "metadata": {},
   "outputs": [
    {
     "data": {
      "text/plain": [
       "0.9471502590673575"
      ]
     },
     "execution_count": 39,
     "metadata": {},
     "output_type": "execute_result"
    }
   ],
   "source": [
    "## XGBoost\n",
    "from xgboost import XGBClassifier, plot_importance\n",
    "\n",
    "model = XGBClassifier(n_estimators=400)\n",
    "model.fit(x_train, y_train)\n",
    "\n",
    "y_pred = model.predict(x_test)\n",
    "\n",
    "# acuracy\n",
    "xgb_score = model.score(x_test, y_test)\n",
    "xgb_score"
   ]
  },
  {
   "cell_type": "code",
   "execution_count": 40,
   "id": "b5608f05",
   "metadata": {},
   "outputs": [
    {
     "name": "stdout",
     "output_type": "stream",
     "text": [
      "              precision    recall  f1-score   support\n",
      "\n",
      "           0       0.00      0.00      0.00        95\n",
      "           1       0.95      1.00      0.97      1835\n",
      "\n",
      "    accuracy                           0.95      1930\n",
      "   macro avg       0.48      0.50      0.49      1930\n",
      "weighted avg       0.90      0.95      0.92      1930\n",
      "\n"
     ]
    }
   ],
   "source": [
    "print(classification_report(y_test, y_pred))"
   ]
  },
  {
   "cell_type": "code",
   "execution_count": 41,
   "id": "69b6c5b6",
   "metadata": {},
   "outputs": [
    {
     "data": {
      "text/plain": [
       "Text(0.5, 1.0, '<< XGBoosting >>')"
      ]
     },
     "execution_count": 41,
     "metadata": {},
     "output_type": "execute_result"
    },
    {
     "data": {
      "text/plain": [
       "<Figure size 1500x1500 with 0 Axes>"
      ]
     },
     "metadata": {},
     "output_type": "display_data"
    },
    {
     "data": {
      "image/png": "[encoded data removed]",
      "text/plain": [
       "<Figure size 640x480 with 2 Axes>"
      ]
     },
     "metadata": {},
     "output_type": "display_data"
    }
   ],
   "source": [
    "plt.style.use('default')\n",
    "plt.figure(figsize=(15, 15))\n",
    "plot_confusion_matrix(model, x_test , y_test , cmap='Blues')\n",
    "plt.title(\"<< XGBoosting >>\")"
   ]
  },
  {
   "cell_type": "code",
   "execution_count": 42,
   "id": "33be26dc",
   "metadata": {},
   "outputs": [
    {
     "data": {
      "text/plain": [
       "<AxesSubplot:title={'center':'Feature importance'}, xlabel='F score', ylabel='Features'>"
      ]
     },
     "execution_count": 42,
     "metadata": {},
     "output_type": "execute_result"
    },
    {
     "data": {
      "image/png": "[encoded data removed]",
      "text/plain": [
       "<Figure size 640x480 with 1 Axes>"
      ]
     },
     "metadata": {},
     "output_type": "display_data"
    }
   ],
   "source": [
    "# 변수 중요도 시각화 \n",
    "plot_importance(model)"
   ]
  },
  {
   "cell_type": "markdown",
   "id": "c1cff454",
   "metadata": {},
   "source": [
    "### Tensorflow 사용 : ANN"
   ]
  },
  {
   "cell_type": "code",
   "execution_count": 43,
   "id": "0d9fc139",
   "metadata": {},
   "outputs": [],
   "source": [
    "from tensorflow.keras.models import Sequential\n",
    "from tensorflow.keras.layers import Dense"
   ]
  },
  {
   "cell_type": "code",
   "execution_count": 44,
   "id": "81468715",
   "metadata": {},
   "outputs": [],
   "source": [
    "m = Sequential()\n",
    "m.add(Dense(8, input_dim = 97, activation='relu'))\n",
    "m.add(Dense(2, activation='softmax'))\n",
    "\n",
    "m.compile(loss = 'sparse_categorical_crossentropy',\n",
    "             optimizer = 'adam',\n",
    "             metrics = ['accuracy'])"
   ]
  },
  {
   "cell_type": "code",
   "execution_count": 45,
   "id": "b34824a1",
   "metadata": {},
   "outputs": [],
   "source": [
    "hist = m.fit(x_train, y_train,\n",
    "             epochs=50,\n",
    "             validation_split=0.2,\n",
    "             verbose=0)"
   ]
  },
  {
   "cell_type": "code",
   "execution_count": 46,
   "id": "c4e608f2",
   "metadata": {
    "scrolled": true
   },
   "outputs": [
    {
     "data": {
      "text/html": [
       "<div>\n",
       "<style scoped>\n",
       "    .dataframe tbody tr th:only-of-type {\n",
       "        vertical-align: middle;\n",
       "    }\n",
       "\n",
       "    .dataframe tbody tr th {\n",
       "        vertical-align: top;\n",
       "    }\n",
       "\n",
       "    .dataframe thead th {\n",
       "        text-align: right;\n",
       "    }\n",
       "</style>\n",
       "<table border=\"1\" class=\"dataframe\">\n",
       "  <thead>\n",
       "    <tr style=\"text-align: right;\">\n",
       "      <th></th>\n",
       "      <th>loss</th>\n",
       "      <th>accuracy</th>\n",
       "      <th>val_loss</th>\n",
       "      <th>val_accuracy</th>\n",
       "    </tr>\n",
       "  </thead>\n",
       "  <tbody>\n",
       "    <tr>\n",
       "      <th>0</th>\n",
       "      <td>39.154240</td>\n",
       "      <td>0.970369</td>\n",
       "      <td>40.623295</td>\n",
       "      <td>0.99158</td>\n",
       "    </tr>\n",
       "    <tr>\n",
       "      <th>1</th>\n",
       "      <td>4.790048</td>\n",
       "      <td>0.959521</td>\n",
       "      <td>24.968534</td>\n",
       "      <td>0.99158</td>\n",
       "    </tr>\n",
       "    <tr>\n",
       "      <th>2</th>\n",
       "      <td>3.822643</td>\n",
       "      <td>0.959845</td>\n",
       "      <td>20.809805</td>\n",
       "      <td>0.99158</td>\n",
       "    </tr>\n",
       "    <tr>\n",
       "      <th>3</th>\n",
       "      <td>3.237286</td>\n",
       "      <td>0.963245</td>\n",
       "      <td>11.130135</td>\n",
       "      <td>0.99158</td>\n",
       "    </tr>\n",
       "    <tr>\n",
       "      <th>4</th>\n",
       "      <td>3.336998</td>\n",
       "      <td>0.964864</td>\n",
       "      <td>8.857489</td>\n",
       "      <td>0.99158</td>\n",
       "    </tr>\n",
       "    <tr>\n",
       "      <th>5</th>\n",
       "      <td>5.252919</td>\n",
       "      <td>0.963892</td>\n",
       "      <td>17.914963</td>\n",
       "      <td>0.99158</td>\n",
       "    </tr>\n",
       "    <tr>\n",
       "      <th>6</th>\n",
       "      <td>3.384763</td>\n",
       "      <td>0.968912</td>\n",
       "      <td>9.051626</td>\n",
       "      <td>0.99158</td>\n",
       "    </tr>\n",
       "    <tr>\n",
       "      <th>7</th>\n",
       "      <td>1.846600</td>\n",
       "      <td>0.963731</td>\n",
       "      <td>15.582590</td>\n",
       "      <td>0.99158</td>\n",
       "    </tr>\n",
       "    <tr>\n",
       "      <th>8</th>\n",
       "      <td>1.224772</td>\n",
       "      <td>0.967293</td>\n",
       "      <td>14.854489</td>\n",
       "      <td>0.99158</td>\n",
       "    </tr>\n",
       "    <tr>\n",
       "      <th>9</th>\n",
       "      <td>1.719550</td>\n",
       "      <td>0.968750</td>\n",
       "      <td>7.538169</td>\n",
       "      <td>0.99158</td>\n",
       "    </tr>\n",
       "    <tr>\n",
       "      <th>10</th>\n",
       "      <td>2.365021</td>\n",
       "      <td>0.963083</td>\n",
       "      <td>29.450319</td>\n",
       "      <td>0.99158</td>\n",
       "    </tr>\n",
       "    <tr>\n",
       "      <th>11</th>\n",
       "      <td>3.168520</td>\n",
       "      <td>0.969560</td>\n",
       "      <td>11.529343</td>\n",
       "      <td>0.99158</td>\n",
       "    </tr>\n",
       "    <tr>\n",
       "      <th>12</th>\n",
       "      <td>2.390618</td>\n",
       "      <td>0.967455</td>\n",
       "      <td>12.272545</td>\n",
       "      <td>0.99158</td>\n",
       "    </tr>\n",
       "    <tr>\n",
       "      <th>13</th>\n",
       "      <td>2.098585</td>\n",
       "      <td>0.967131</td>\n",
       "      <td>21.934479</td>\n",
       "      <td>0.99158</td>\n",
       "    </tr>\n",
       "    <tr>\n",
       "      <th>14</th>\n",
       "      <td>3.281731</td>\n",
       "      <td>0.962597</td>\n",
       "      <td>17.043705</td>\n",
       "      <td>0.99158</td>\n",
       "    </tr>\n",
       "    <tr>\n",
       "      <th>15</th>\n",
       "      <td>5.098899</td>\n",
       "      <td>0.968750</td>\n",
       "      <td>8.218189</td>\n",
       "      <td>0.99158</td>\n",
       "    </tr>\n",
       "    <tr>\n",
       "      <th>16</th>\n",
       "      <td>2.249216</td>\n",
       "      <td>0.963569</td>\n",
       "      <td>12.091097</td>\n",
       "      <td>0.99158</td>\n",
       "    </tr>\n",
       "    <tr>\n",
       "      <th>17</th>\n",
       "      <td>3.178412</td>\n",
       "      <td>0.967617</td>\n",
       "      <td>26.764912</td>\n",
       "      <td>0.99158</td>\n",
       "    </tr>\n",
       "    <tr>\n",
       "      <th>18</th>\n",
       "      <td>4.154665</td>\n",
       "      <td>0.966321</td>\n",
       "      <td>9.248027</td>\n",
       "      <td>0.99158</td>\n",
       "    </tr>\n",
       "    <tr>\n",
       "      <th>19</th>\n",
       "      <td>3.105233</td>\n",
       "      <td>0.965674</td>\n",
       "      <td>6.756078</td>\n",
       "      <td>0.99158</td>\n",
       "    </tr>\n",
       "    <tr>\n",
       "      <th>20</th>\n",
       "      <td>1.546097</td>\n",
       "      <td>0.966159</td>\n",
       "      <td>14.196009</td>\n",
       "      <td>0.99158</td>\n",
       "    </tr>\n",
       "    <tr>\n",
       "      <th>21</th>\n",
       "      <td>2.489248</td>\n",
       "      <td>0.967131</td>\n",
       "      <td>8.234494</td>\n",
       "      <td>0.99158</td>\n",
       "    </tr>\n",
       "    <tr>\n",
       "      <th>22</th>\n",
       "      <td>3.973727</td>\n",
       "      <td>0.965350</td>\n",
       "      <td>17.004797</td>\n",
       "      <td>0.99158</td>\n",
       "    </tr>\n",
       "    <tr>\n",
       "      <th>23</th>\n",
       "      <td>2.900652</td>\n",
       "      <td>0.966321</td>\n",
       "      <td>10.971508</td>\n",
       "      <td>0.99158</td>\n",
       "    </tr>\n",
       "    <tr>\n",
       "      <th>24</th>\n",
       "      <td>0.468726</td>\n",
       "      <td>0.967940</td>\n",
       "      <td>7.273656</td>\n",
       "      <td>0.99158</td>\n",
       "    </tr>\n",
       "    <tr>\n",
       "      <th>25</th>\n",
       "      <td>2.206056</td>\n",
       "      <td>0.966321</td>\n",
       "      <td>12.828575</td>\n",
       "      <td>0.99158</td>\n",
       "    </tr>\n",
       "    <tr>\n",
       "      <th>26</th>\n",
       "      <td>2.599918</td>\n",
       "      <td>0.964702</td>\n",
       "      <td>17.937355</td>\n",
       "      <td>0.99158</td>\n",
       "    </tr>\n",
       "    <tr>\n",
       "      <th>27</th>\n",
       "      <td>2.240332</td>\n",
       "      <td>0.969236</td>\n",
       "      <td>11.373627</td>\n",
       "      <td>0.99158</td>\n",
       "    </tr>\n",
       "    <tr>\n",
       "      <th>28</th>\n",
       "      <td>2.300414</td>\n",
       "      <td>0.966645</td>\n",
       "      <td>7.975790</td>\n",
       "      <td>0.99158</td>\n",
       "    </tr>\n",
       "    <tr>\n",
       "      <th>29</th>\n",
       "      <td>2.576182</td>\n",
       "      <td>0.966159</td>\n",
       "      <td>7.185370</td>\n",
       "      <td>0.99158</td>\n",
       "    </tr>\n",
       "    <tr>\n",
       "      <th>30</th>\n",
       "      <td>1.093167</td>\n",
       "      <td>0.967455</td>\n",
       "      <td>7.368875</td>\n",
       "      <td>0.99158</td>\n",
       "    </tr>\n",
       "    <tr>\n",
       "      <th>31</th>\n",
       "      <td>3.241422</td>\n",
       "      <td>0.965997</td>\n",
       "      <td>6.687246</td>\n",
       "      <td>0.99158</td>\n",
       "    </tr>\n",
       "    <tr>\n",
       "      <th>32</th>\n",
       "      <td>1.508773</td>\n",
       "      <td>0.965674</td>\n",
       "      <td>16.494148</td>\n",
       "      <td>0.99158</td>\n",
       "    </tr>\n",
       "    <tr>\n",
       "      <th>33</th>\n",
       "      <td>4.362743</td>\n",
       "      <td>0.967293</td>\n",
       "      <td>18.822529</td>\n",
       "      <td>0.99158</td>\n",
       "    </tr>\n",
       "    <tr>\n",
       "      <th>34</th>\n",
       "      <td>2.354106</td>\n",
       "      <td>0.966807</td>\n",
       "      <td>16.905140</td>\n",
       "      <td>0.99158</td>\n",
       "    </tr>\n",
       "    <tr>\n",
       "      <th>35</th>\n",
       "      <td>3.183968</td>\n",
       "      <td>0.968588</td>\n",
       "      <td>7.838902</td>\n",
       "      <td>0.99158</td>\n",
       "    </tr>\n",
       "    <tr>\n",
       "      <th>36</th>\n",
       "      <td>2.134603</td>\n",
       "      <td>0.967455</td>\n",
       "      <td>6.884309</td>\n",
       "      <td>0.99158</td>\n",
       "    </tr>\n",
       "    <tr>\n",
       "      <th>37</th>\n",
       "      <td>1.630719</td>\n",
       "      <td>0.966483</td>\n",
       "      <td>7.435281</td>\n",
       "      <td>0.99158</td>\n",
       "    </tr>\n",
       "    <tr>\n",
       "      <th>38</th>\n",
       "      <td>1.078664</td>\n",
       "      <td>0.965836</td>\n",
       "      <td>19.892986</td>\n",
       "      <td>0.99158</td>\n",
       "    </tr>\n",
       "    <tr>\n",
       "      <th>39</th>\n",
       "      <td>4.840603</td>\n",
       "      <td>0.966969</td>\n",
       "      <td>8.003793</td>\n",
       "      <td>0.99158</td>\n",
       "    </tr>\n",
       "    <tr>\n",
       "      <th>40</th>\n",
       "      <td>1.904530</td>\n",
       "      <td>0.970045</td>\n",
       "      <td>8.372034</td>\n",
       "      <td>0.99158</td>\n",
       "    </tr>\n",
       "    <tr>\n",
       "      <th>41</th>\n",
       "      <td>3.466360</td>\n",
       "      <td>0.965512</td>\n",
       "      <td>6.387420</td>\n",
       "      <td>0.99158</td>\n",
       "    </tr>\n",
       "    <tr>\n",
       "      <th>42</th>\n",
       "      <td>0.492870</td>\n",
       "      <td>0.966969</td>\n",
       "      <td>10.309564</td>\n",
       "      <td>0.99158</td>\n",
       "    </tr>\n",
       "    <tr>\n",
       "      <th>43</th>\n",
       "      <td>2.863614</td>\n",
       "      <td>0.969074</td>\n",
       "      <td>8.276517</td>\n",
       "      <td>0.99158</td>\n",
       "    </tr>\n",
       "    <tr>\n",
       "      <th>44</th>\n",
       "      <td>2.760473</td>\n",
       "      <td>0.965350</td>\n",
       "      <td>6.744917</td>\n",
       "      <td>0.99158</td>\n",
       "    </tr>\n",
       "    <tr>\n",
       "      <th>45</th>\n",
       "      <td>1.959830</td>\n",
       "      <td>0.965512</td>\n",
       "      <td>6.659659</td>\n",
       "      <td>0.99158</td>\n",
       "    </tr>\n",
       "    <tr>\n",
       "      <th>46</th>\n",
       "      <td>2.156996</td>\n",
       "      <td>0.964540</td>\n",
       "      <td>22.554171</td>\n",
       "      <td>0.99158</td>\n",
       "    </tr>\n",
       "    <tr>\n",
       "      <th>47</th>\n",
       "      <td>2.955650</td>\n",
       "      <td>0.967779</td>\n",
       "      <td>6.888764</td>\n",
       "      <td>0.99158</td>\n",
       "    </tr>\n",
       "    <tr>\n",
       "      <th>48</th>\n",
       "      <td>1.556196</td>\n",
       "      <td>0.968264</td>\n",
       "      <td>8.124690</td>\n",
       "      <td>0.99158</td>\n",
       "    </tr>\n",
       "    <tr>\n",
       "      <th>49</th>\n",
       "      <td>2.754008</td>\n",
       "      <td>0.966321</td>\n",
       "      <td>10.154044</td>\n",
       "      <td>0.99158</td>\n",
       "    </tr>\n",
       "  </tbody>\n",
       "</table>\n",
       "</div>"
      ],
      "text/plain": [
       "         loss  accuracy   val_loss  val_accuracy\n",
       "0   39.154240  0.970369  40.623295       0.99158\n",
       "1    4.790048  0.959521  24.968534       0.99158\n",
       "2    3.822643  0.959845  20.809805       0.99158\n",
       "3    3.237286  0.963245  11.130135       0.99158\n",
       "4    3.336998  0.964864   8.857489       0.99158\n",
       "5    5.252919  0.963892  17.914963       0.99158\n",
       "6    3.384763  0.968912   9.051626       0.99158\n",
       "7    1.846600  0.963731  15.582590       0.99158\n",
       "8    1.224772  0.967293  14.854489       0.99158\n",
       "9    1.719550  0.968750   7.538169       0.99158\n",
       "10   2.365021  0.963083  29.450319       0.99158\n",
       "11   3.168520  0.969560  11.529343       0.99158\n",
       "12   2.390618  0.967455  12.272545       0.99158\n",
       "13   2.098585  0.967131  21.934479       0.99158\n",
       "14   3.281731  0.962597  17.043705       0.99158\n",
       "15   5.098899  0.968750   8.218189       0.99158\n",
       "16   2.249216  0.963569  12.091097       0.99158\n",
       "17   3.178412  0.967617  26.764912       0.99158\n",
       "18   4.154665  0.966321   9.248027       0.99158\n",
       "19   3.105233  0.965674   6.756078       0.99158\n",
       "20   1.546097  0.966159  14.196009       0.99158\n",
       "21   2.489248  0.967131   8.234494       0.99158\n",
       "22   3.973727  0.965350  17.004797       0.99158\n",
       "23   2.900652  0.966321  10.971508       0.99158\n",
       "24   0.468726  0.967940   7.273656       0.99158\n",
       "25   2.206056  0.966321  12.828575       0.99158\n",
       "26   2.599918  0.964702  17.937355       0.99158\n",
       "27   2.240332  0.969236  11.373627       0.99158\n",
       "28   2.300414  0.966645   7.975790       0.99158\n",
       "29   2.576182  0.966159   7.185370       0.99158\n",
       "30   1.093167  0.967455   7.368875       0.99158\n",
       "31   3.241422  0.965997   6.687246       0.99158\n",
       "32   1.508773  0.965674  16.494148       0.99158\n",
       "33   4.362743  0.967293  18.822529       0.99158\n",
       "34   2.354106  0.966807  16.905140       0.99158\n",
       "35   3.183968  0.968588   7.838902       0.99158\n",
       "36   2.134603  0.967455   6.884309       0.99158\n",
       "37   1.630719  0.966483   7.435281       0.99158\n",
       "38   1.078664  0.965836  19.892986       0.99158\n",
       "39   4.840603  0.966969   8.003793       0.99158\n",
       "40   1.904530  0.970045   8.372034       0.99158\n",
       "41   3.466360  0.965512   6.387420       0.99158\n",
       "42   0.492870  0.966969  10.309564       0.99158\n",
       "43   2.863614  0.969074   8.276517       0.99158\n",
       "44   2.760473  0.965350   6.744917       0.99158\n",
       "45   1.959830  0.965512   6.659659       0.99158\n",
       "46   2.156996  0.964540  22.554171       0.99158\n",
       "47   2.955650  0.967779   6.888764       0.99158\n",
       "48   1.556196  0.968264   8.124690       0.99158\n",
       "49   2.754008  0.966321  10.154044       0.99158"
      ]
     },
     "execution_count": 46,
     "metadata": {},
     "output_type": "execute_result"
    }
   ],
   "source": [
    "pd.DataFrame(hist.history)"
   ]
  },
  {
   "cell_type": "code",
   "execution_count": 47,
   "id": "f332838b",
   "metadata": {},
   "outputs": [
    {
     "name": "stdout",
     "output_type": "stream",
     "text": [
      "61/61 [==============================] - 0s 2ms/step\n"
     ]
    }
   ],
   "source": [
    "y_pred = m.predict(x_test)"
   ]
  },
  {
   "cell_type": "code",
   "execution_count": 48,
   "id": "7152523c",
   "metadata": {},
   "outputs": [
    {
     "name": "stdout",
     "output_type": "stream",
     "text": [
      "Model: \"sequential\"\n",
      "_________________________________________________________________\n",
      " Layer (type)                Output Shape              Param #   \n",
      "=================================================================\n",
      " dense (Dense)               (None, 8)                 784       \n",
      "                                                                 \n",
      " dense_1 (Dense)             (None, 2)                 18        \n",
      "                                                                 \n",
      "=================================================================\n",
      "Total params: 802\n",
      "Trainable params: 802\n",
      "Non-trainable params: 0\n",
      "_________________________________________________________________\n"
     ]
    }
   ],
   "source": [
    "m.summary()"
   ]
  },
  {
   "cell_type": "code",
   "execution_count": 49,
   "id": "71926bc7",
   "metadata": {},
   "outputs": [
    {
     "name": "stdout",
     "output_type": "stream",
     "text": [
      "61/61 [==============================] - 0s 3ms/step - loss: 3.8738 - accuracy: 0.9508\n"
     ]
    },
    {
     "data": {
      "text/plain": [
       "[3.873809337615967, 0.9507771730422974]"
      ]
     },
     "execution_count": 49,
     "metadata": {},
     "output_type": "execute_result"
    }
   ],
   "source": [
    "# 모델평가\n",
    "m.evaluate(x_test, y_test)"
   ]
  },
  {
   "cell_type": "code",
   "execution_count": 50,
   "id": "3e830728",
   "metadata": {},
   "outputs": [],
   "source": [
    "from tensorflow.keras.utils import to_categorical\n",
    "\n",
    "y_test_onehot = to_categorical(y_test)"
   ]
  },
  {
   "cell_type": "code",
   "execution_count": 51,
   "id": "d9681b18",
   "metadata": {},
   "outputs": [
    {
     "name": "stdout",
     "output_type": "stream",
     "text": [
      "[[   0   95]\n",
      " [   0 1835]]\n",
      "0.9507772020725389\n"
     ]
    }
   ],
   "source": [
    "print(confusion_matrix(y_test_onehot.argmax(axis=1), y_pred.argmax(axis=1)))\n",
    "print(accuracy_score(y_test_onehot.argmax(axis=1), y_pred.argmax(axis=1)))\n",
    "ann_score = accuracy_score(y_test_onehot.argmax(axis=1), y_pred.argmax(axis=1))"
   ]
  },
  {
   "cell_type": "code",
   "execution_count": 52,
   "id": "66db8aa8",
   "metadata": {},
   "outputs": [],
   "source": [
    "def plot_loss(history):\n",
    "    plt.plot(history.history['loss'], label = 'loss')\n",
    "    plt.plot(history.history['val_loss'], label = 'val_loss')\n",
    "    plt.ylim([0,40])\n",
    "    plt.xlabel(\"Epoch\")\n",
    "    plt.ylabel('Error')\n",
    "    plt.legend()\n",
    "    plt.grid(True)"
   ]
  },
  {
   "cell_type": "code",
   "execution_count": 54,
   "id": "ed776e97",
   "metadata": {},
   "outputs": [
    {
     "data": {
      "image/png": "[encoded data removed]",
      "text/plain": [
       "<Figure size 640x480 with 1 Axes>"
      ]
     },
     "metadata": {},
     "output_type": "display_data"
    }
   ],
   "source": [
    "plot_loss(hist)"
   ]
  },
  {
   "cell_type": "code",
   "execution_count": 58,
   "id": "ab115691",
   "metadata": {},
   "outputs": [
    {
     "name": "stdout",
     "output_type": "stream",
     "text": [
      "Model: \"sequential_2\"\n",
      "_________________________________________________________________\n",
      " Layer (type)                Output Shape              Param #   \n",
      "=================================================================\n",
      " normalization_3 (Normalizat  (None, 97)               195       \n",
      " ion)                                                            \n",
      "                                                                 \n",
      " dense_4 (Dense)             (None, 8)                 784       \n",
      "                                                                 \n",
      " dense_5 (Dense)             (None, 2)                 18        \n",
      "                                                                 \n",
      "=================================================================\n",
      "Total params: 997\n",
      "Trainable params: 802\n",
      "Non-trainable params: 195\n",
      "_________________________________________________________________\n"
     ]
    }
   ],
   "source": [
    "# 모델 정규화\n",
    "from tensorflow.keras.layers.experimental import preprocessing\n",
    "\n",
    "normalizer = preprocessing.Normalization(axis = -1)\n",
    "normalizer.adapt(np.array(x_train))\n",
    "\n",
    "normalized_model = Sequential()\n",
    "normalized_model.add(normalizer)\n",
    "normalized_model.add(Dense(8, input_dim = 97, activation='relu'))\n",
    "normalized_model.add(Dense(2, activation='softmax'))\n",
    "\n",
    "normalized_model.summary()"
   ]
  },
  {
   "cell_type": "code",
   "execution_count": 61,
   "id": "0ba7aca5",
   "metadata": {},
   "outputs": [
    {
     "data": {
      "image/png": "[encoded data removed]",
      "text/plain": [
       "<Figure size 640x480 with 1 Axes>"
      ]
     },
     "metadata": {},
     "output_type": "display_data"
    }
   ],
   "source": [
    "normalized_model.compile(loss = 'sparse_categorical_crossentropy',\n",
    "                         optimizer = 'adam',\n",
    "                         metrics = ['accuracy'])\n",
    "\n",
    "normalized_history = normalized_model.fit(x_train, y_train, epochs = 500,\n",
    "                                         verbose = 0, validation_split = 0.2)\n",
    "\n",
    "plot_loss(normalized_history)"
   ]
  },
  {
   "cell_type": "markdown",
   "id": "f77dbe57",
   "metadata": {},
   "source": [
    "### score"
   ]
  },
  {
   "cell_type": "code",
   "execution_count": 62,
   "id": "bc436b54",
   "metadata": {},
   "outputs": [
    {
     "data": {
      "text/html": [
       "<div>\n",
       "<style scoped>\n",
       "    .dataframe tbody tr th:only-of-type {\n",
       "        vertical-align: middle;\n",
       "    }\n",
       "\n",
       "    .dataframe tbody tr th {\n",
       "        vertical-align: top;\n",
       "    }\n",
       "\n",
       "    .dataframe thead th {\n",
       "        text-align: right;\n",
       "    }\n",
       "</style>\n",
       "<table border=\"1\" class=\"dataframe\">\n",
       "  <thead>\n",
       "    <tr style=\"text-align: right;\">\n",
       "      <th></th>\n",
       "      <th>Score</th>\n",
       "    </tr>\n",
       "    <tr>\n",
       "      <th>Model</th>\n",
       "      <th></th>\n",
       "    </tr>\n",
       "  </thead>\n",
       "  <tbody>\n",
       "    <tr>\n",
       "      <th>Gaussian Naive Bayes</th>\n",
       "      <td>0.950777</td>\n",
       "    </tr>\n",
       "    <tr>\n",
       "      <th>K-nearest Neighbors</th>\n",
       "      <td>0.950777</td>\n",
       "    </tr>\n",
       "    <tr>\n",
       "      <th>Decision Tree</th>\n",
       "      <td>0.950777</td>\n",
       "    </tr>\n",
       "    <tr>\n",
       "      <th>Random Forest</th>\n",
       "      <td>0.950777</td>\n",
       "    </tr>\n",
       "    <tr>\n",
       "      <th>Support Vector Machine</th>\n",
       "      <td>0.950777</td>\n",
       "    </tr>\n",
       "    <tr>\n",
       "      <th>ANN</th>\n",
       "      <td>0.950777</td>\n",
       "    </tr>\n",
       "    <tr>\n",
       "      <th>XGBoost</th>\n",
       "      <td>0.947150</td>\n",
       "    </tr>\n",
       "    <tr>\n",
       "      <th>Logistic Regression</th>\n",
       "      <td>0.531606</td>\n",
       "    </tr>\n",
       "  </tbody>\n",
       "</table>\n",
       "</div>"
      ],
      "text/plain": [
       "                           Score\n",
       "Model                           \n",
       "Gaussian Naive Bayes    0.950777\n",
       "K-nearest Neighbors     0.950777\n",
       "Decision Tree           0.950777\n",
       "Random Forest           0.950777\n",
       "Support Vector Machine  0.950777\n",
       "ANN                     0.950777\n",
       "XGBoost                 0.947150\n",
       "Logistic Regression     0.531606"
      ]
     },
     "execution_count": 62,
     "metadata": {},
     "output_type": "execute_result"
    }
   ],
   "source": [
    "models = pd.DataFrame(\n",
    "    data = [\n",
    "        ['Logistic Regression', lr_score],\n",
    "        ['Gaussian Naive Bayes', nb_score],\n",
    "        ['K-nearest Neighbors', knn_score],\n",
    "        ['Decision Tree', dt_score],\n",
    "        ['Random Forest', rf_score],\n",
    "        ['Support Vector Machine', svm_score],\n",
    "        ['XGBoost', xgb_score],\n",
    "        ['ANN', ann_score]\n",
    "    ],\n",
    "    columns = ['Model', 'Score']\n",
    ")\n",
    "\n",
    "models.set_index('Model', inplace=True)\n",
    "models.sort_values('Score', ascending=False)"
   ]
  },
  {
   "cell_type": "code",
   "execution_count": null,
   "id": "682994e1",
   "metadata": {},
   "outputs": [],
   "source": []
  }
 ],
 "metadata": {
  "kernelspec": {
   "display_name": "Python 3 (ipykernel)",
   "language": "python",
   "name": "python3"
  },
  "language_info": {
   "codemirror_mode": {
    "name": "ipython",
    "version": 3
   },
   "file_extension": ".py",
   "mimetype": "text/x-python",
   "name": "python",
   "nbconvert_exporter": "python",
   "pygments_lexer": "ipython3",
   "version": "3.9.12"
  }
 },
 "nbformat": 4,
 "nbformat_minor": 5
}
